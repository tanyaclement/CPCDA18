{
 "cells": [
  {
   "cell_type": "markdown",
   "metadata": {},
   "source": [
    "# Matplotlib Visualization Examples\n",
    "Matplotlib is a great library to use for plotting charts in Python. Extra helpful is the [python gallery](https://python-graph-gallery.com/matplotlib/) where you can find examples on how to make and tweak almost any chart you might want to make. "
   ]
  },
  {
   "cell_type": "markdown",
   "metadata": {},
   "source": [
    "## *Wordclouds*"
   ]
  },
  {
   "cell_type": "code",
   "execution_count": 1,
   "metadata": {},
   "outputs": [
    {
     "name": "stdout",
     "output_type": "stream",
     "text": [
      "Collecting git+git://github.com/amueller/word_cloud.git\n",
      "  Cloning git://github.com/amueller/word_cloud.git to /tmp/pip-4_39esy5-build\n",
      "  Requirement already satisfied (use --upgrade to upgrade): wordcloud==1.4.1 from git+git://github.com/amueller/word_cloud.git in /usr/local/lib/python3.5/dist-packages\n",
      "Requirement already satisfied: matplotlib in /usr/local/lib/python3.5/dist-packages (from wordcloud==1.4.1)\n",
      "Requirement already satisfied: numpy>=1.6.1 in /usr/local/lib/python3.5/dist-packages (from wordcloud==1.4.1)\n",
      "Requirement already satisfied: pillow in /usr/local/lib/python3.5/dist-packages (from wordcloud==1.4.1)\n",
      "Requirement already satisfied: pytz in /usr/local/lib/python3.5/dist-packages (from matplotlib->wordcloud==1.4.1)\n",
      "Requirement already satisfied: kiwisolver>=1.0.1 in /usr/local/lib/python3.5/dist-packages (from matplotlib->wordcloud==1.4.1)\n",
      "Requirement already satisfied: python-dateutil>=2.1 in /usr/local/lib/python3.5/dist-packages (from matplotlib->wordcloud==1.4.1)\n",
      "Requirement already satisfied: cycler>=0.10 in /usr/local/lib/python3.5/dist-packages (from matplotlib->wordcloud==1.4.1)\n",
      "Requirement already satisfied: pyparsing!=2.0.4,!=2.1.2,!=2.1.6,>=2.0.1 in /usr/local/lib/python3.5/dist-packages (from matplotlib->wordcloud==1.4.1)\n",
      "Requirement already satisfied: six>=1.10 in /usr/local/lib/python3.5/dist-packages (from matplotlib->wordcloud==1.4.1)\n",
      "Requirement already satisfied: setuptools in /usr/lib/python3/dist-packages (from kiwisolver>=1.0.1->matplotlib->wordcloud==1.4.1)\n",
      "\u001b[33mYou are using pip version 9.0.1, however version 9.0.3 is available.\n",
      "You should consider upgrading via the 'pip install --upgrade pip' command.\u001b[0m\n"
     ]
    }
   ],
   "source": [
    "!pip install git+git://github.com/amueller/word_cloud.git"
   ]
  },
  {
   "cell_type": "code",
   "execution_count": null,
   "metadata": {},
   "outputs": [],
   "source": [
    "from urllib.request import urlopen\n",
    "\n",
    "some_text = urlopen('http://www.gutenberg.org/cache/epub/12242/pg12242.txt').read().decode('utf8')\n",
    "\n",
    "some_text[:1000]"
   ]
  },
  {
   "cell_type": "code",
   "execution_count": null,
   "metadata": {},
   "outputs": [],
   "source": [
    "from matplotlib import pyplot as plt\n",
    "from wordcloud import WordCloud\n",
    "\n",
    "wordcloud = WordCloud(width = 1000, height = 500).generate(some_text)\n",
    "\n",
    "plt.figure()\n",
    "plt.imshow(wordcloud)\n",
    "plt.axis(\"off\")\n",
    "plt.margins(x=0, y=0)\n",
    "plt.show()"
   ]
  },
  {
   "cell_type": "markdown",
   "metadata": {},
   "source": [
    "# *MOMA Visualization Examples*"
   ]
  },
  {
   "cell_type": "code",
   "execution_count": null,
   "metadata": {},
   "outputs": [],
   "source": [
    "from urllib.request import urlopen\n",
    "import csv\n",
    "import numpy as np\n",
    "from matplotlib import pyplot as plt\n",
    "%matplotlib inline\n",
    "!rm Artworks.csv"
   ]
  },
  {
   "cell_type": "code",
   "execution_count": null,
   "metadata": {},
   "outputs": [],
   "source": [
    "## Downloading Museum of Modern Art metadata CSV\n",
    "\n",
    "!wget https://media.githubusercontent.com/media/MuseumofModernArt/collection/master/Artworks.csv"
   ]
  },
  {
   "cell_type": "code",
   "execution_count": null,
   "metadata": {},
   "outputs": [],
   "source": [
    "## Loading CSV as list of lists\n",
    "\n",
    "metadata_table = []\n",
    "\n",
    "with open('Artworks.csv') as csvfile:\n",
    "    csv_reader = csv.reader(csvfile)\n",
    "    for row in csv_reader:\n",
    "        metadata_table.append(row)\n",
    "\n",
    "metadata_table[:3] # Viewing first 3 rows in table"
   ]
  },
  {
   "cell_type": "code",
   "execution_count": null,
   "metadata": {},
   "outputs": [],
   "source": [
    "## Save first row to 'column_headers' variable,\n",
    "# then view field headers next to their index values\n",
    "\n",
    "column_headers = metadata_table[0]\n",
    "\n",
    "list(enumerate(column_headers))"
   ]
  },
  {
   "cell_type": "code",
   "execution_count": null,
   "metadata": {},
   "outputs": [],
   "source": [
    "## Removing column header row (defined in the previous cell) from 'metadata_table'\n",
    "\n",
    "metadata_table.remove(column_headers)"
   ]
  },
  {
   "cell_type": "code",
   "execution_count": null,
   "metadata": {},
   "outputs": [],
   "source": [
    "## Viewing a random metadata record. Run this cell a few times to get a feel for the schema.\n",
    "\n",
    "import random\n",
    "\n",
    "random.choice(metadata_table)"
   ]
  },
  {
   "cell_type": "code",
   "execution_count": null,
   "metadata": {},
   "outputs": [],
   "source": [
    "## Viewing a random 'height' value\n",
    "\n",
    "import random\n",
    "\n",
    "row = random.choice(metadata_table)\n",
    "height = row[23]\n",
    "print(height)"
   ]
  },
  {
   "cell_type": "code",
   "execution_count": null,
   "metadata": {},
   "outputs": [],
   "source": []
  },
  {
   "cell_type": "markdown",
   "metadata": {},
   "source": [
    "## *Histograms: Height & Width*"
   ]
  },
  {
   "cell_type": "code",
   "execution_count": null,
   "metadata": {},
   "outputs": [],
   "source": [
    "## Creating a list of 'height' values converted to floats, ignoring any missing or faulty values\n",
    "\n",
    "height_list = []\n",
    "\n",
    "for row in metadata_table:\n",
    "    try:\n",
    "        height = float(row[23])        # Converting height value (at index 23) to float and assigning it to 'height' variable\n",
    "        height_list.append(height)     # Adding value to 'height_list'\n",
    "    except:\n",
    "        pass                           # If we get an error in the 'try' block above, we do nothing and move to the next row.\n",
    "                                       # This happens when the 'height' field is empty, so it can't be converted to float.\n",
    "\n",
    "height_list[:10]      # Viewing first 10 height values"
   ]
  },
  {
   "cell_type": "code",
   "execution_count": null,
   "metadata": {},
   "outputs": [],
   "source": [
    "## Creating a list of 'width' values converted to floats, ignoring any missing or faulty values\n",
    "\n",
    "width_list = []\n",
    "\n",
    "for row in metadata_table:\n",
    "    try:\n",
    "        width = float(row[26])\n",
    "        width_list.append(width)\n",
    "    except:\n",
    "        pass\n",
    "\n",
    "\n",
    "width_list[:10]"
   ]
  },
  {
   "cell_type": "code",
   "execution_count": null,
   "metadata": {},
   "outputs": [],
   "source": [
    "## Comparing number of records in original metadata with extracted height and width lists\n",
    "\n",
    "print(len(metadata_table))\n",
    "print(len(width_list))\n",
    "print(len(height_list))\n",
    "\n",
    "# Note that extracted lists are shorter than full metadata table, because we skipped missing values."
   ]
  },
  {
   "cell_type": "code",
   "execution_count": null,
   "metadata": {},
   "outputs": [],
   "source": [
    "## Finding average width (for artworks that include that field)\n",
    "\n",
    "np.mean(width_list)"
   ]
  },
  {
   "cell_type": "code",
   "execution_count": null,
   "metadata": {},
   "outputs": [],
   "source": [
    "## Creating a basic histogram\n",
    "\n",
    "import matplotlib.pyplot as plt\n",
    "%matplotlib inline\n",
    "\n",
    "plt.figure(figsize=(13,5))\n",
    "plt.hist(width_list)\n",
    "plt.show()\n",
    "\n",
    "# This isn't very useful. Note that the x axis (i.e., width values) extends to 8000 cm, \n",
    "# meaning everything else is squeezed into one histogram bar."
   ]
  },
  {
   "cell_type": "code",
   "execution_count": null,
   "metadata": {},
   "outputs": [],
   "source": [
    "## Viewing the biggest width values\n",
    "\n",
    "sorted(width_list)[::-1][:30]"
   ]
  },
  {
   "cell_type": "code",
   "execution_count": null,
   "metadata": {},
   "outputs": [],
   "source": [
    "## Let's omit all width values above 1000 cm and break up the plot into 30 bins\n",
    "\n",
    "plt.figure(figsize=(13,5))\n",
    "\n",
    "temp_width_list = [item for item in width_list if item<=1000]\n",
    "\n",
    "plt.hist(temp_width_list, bins=30)\n",
    "\n",
    "plt.show()\n",
    "\n",
    "# Getting closer ..."
   ]
  },
  {
   "cell_type": "code",
   "execution_count": null,
   "metadata": {},
   "outputs": [],
   "source": [
    "## Omitting values above 200 cm and doubling the number of bins to 60\n",
    "\n",
    "plt.figure(figsize=(13,5))\n",
    "\n",
    "temp_width_list = [item for item in width_list if item<200]\n",
    "\n",
    "plt.hist(temp_width_list, bins=60)\n",
    "\n",
    "plt.show()"
   ]
  },
  {
   "cell_type": "code",
   "execution_count": null,
   "metadata": {},
   "outputs": [],
   "source": [
    "## Plotting two overlaid histograms\n",
    "\n",
    "plt.figure(figsize=(13,5))\n",
    "\n",
    "temp_width_list = [item for item in width_list if item<200]\n",
    "temp_height_list = [item for item in height_list if item<200]\n",
    "\n",
    "plt.hist(temp_width_list, alpha=0.5, label='Widths', bins=60)\n",
    "plt.hist(temp_height_list, alpha=0.5, label='Heights', bins=60)\n",
    "\n",
    "plt.legend(loc='upper right')\n",
    "\n",
    "plt.show()"
   ]
  },
  {
   "cell_type": "code",
   "execution_count": null,
   "metadata": {},
   "outputs": [],
   "source": [
    "## Plotting two overlaid histograms with labels\n",
    "\n",
    "plt.figure(figsize=(13,7))\n",
    "\n",
    "temp_width_list = [item for item in width_list if item<200]\n",
    "temp_height_list = [item for item in height_list if item<200]\n",
    "\n",
    "plt.hist(temp_width_list, alpha=0.5, label='Widths', bins=60)\n",
    "plt.hist(temp_height_list, alpha=0.5, label='Heights', bins=60)\n",
    "\n",
    "plt.legend(loc='upper right')\n",
    "\n",
    "plt.title('Height and Width Distributions')\n",
    "plt.xlabel('Centimeters')\n",
    "plt.ylabel('Number of artworks')\n",
    "\n",
    "plt.show()"
   ]
  },
  {
   "cell_type": "code",
   "execution_count": null,
   "metadata": {},
   "outputs": [],
   "source": []
  },
  {
   "cell_type": "markdown",
   "metadata": {},
   "source": [
    "## *Scatter Plots: Height and Width Pairs*"
   ]
  },
  {
   "cell_type": "code",
   "execution_count": null,
   "metadata": {},
   "outputs": [],
   "source": [
    "## Creating a list of [height, width] coordinate pairs for each record with valid height and width values\n",
    "\n",
    "height_width_pairs = []\n",
    "\n",
    "for row in metadata_table:\n",
    "    try:\n",
    "        height = float(row[23])\n",
    "        width = float(row[26])\n",
    "        pair = [height, width]\n",
    "        height_width_pairs.append(pair)\n",
    "    except:\n",
    "        pass\n",
    "\n",
    "height_width_pairs[:10]           # Viewing first 10 [height, width] pairs"
   ]
  },
  {
   "cell_type": "code",
   "execution_count": null,
   "metadata": {},
   "outputs": [],
   "source": [
    "## Creating basic scatter plot\n",
    "\n",
    "import matplotlib.pyplot as plt\n",
    "%matplotlib inline\n",
    "\n",
    "x_list = [item[0] for item in height_width_pairs]  # Creating a list of x values (index 0 in each pair)\n",
    "y_list = [item[1] for item in height_width_pairs]  # Creating a list of y values (index 1 in each pair)\n",
    "\n",
    "plt.figure(figsize=(6,6))\n",
    "\n",
    "plt.scatter(x_list, y_list, c='green', alpha=0.5)\n",
    "\n",
    "plt.show()"
   ]
  },
  {
   "cell_type": "code",
   "execution_count": null,
   "metadata": {},
   "outputs": [],
   "source": [
    "## Narrowing visible plot to x and y values under 1000 cm\n",
    "\n",
    "x_list = [item[0] for item in height_width_pairs]  # Creating a list of x values (index 0 in each pair)\n",
    "y_list = [item[1] for item in height_width_pairs]  # Creating a list of x values (index 1 in each pair)\n",
    "\n",
    "plt.figure(figsize=(6,6))\n",
    "\n",
    "plt.scatter(x_list, y_list, c='green', alpha=0.5)\n",
    "\n",
    "plt.ylim(ymin=0, ymax=1000)\n",
    "plt.xlim(xmin=0, xmax=1000)\n",
    "\n",
    "plt.show()\n",
    "\n",
    "# Getting closer, but still a bit indistinct. Let's zoom in further."
   ]
  },
  {
   "cell_type": "code",
   "execution_count": null,
   "metadata": {},
   "outputs": [],
   "source": [
    "## Narrowing visible plot to x and y values under 200 cm and increasing plot size\n",
    "\n",
    "x_list = [item[0] for item in height_width_pairs]  # Creating a list of x values (index 0 in each pair)\n",
    "y_list = [item[1] for item in height_width_pairs]  # Creating a list of x values (index 1 in each pair)\n",
    "\n",
    "plt.figure(figsize=(9,9))                          ## <-- Larger plot size\n",
    "\n",
    "plt.scatter(x_list, y_list, c='green', alpha=0.5)\n",
    "\n",
    "plt.ylim(ymin=0, ymax=200)                         ## <-- ymax=200\n",
    "plt.xlim(xmin=0, xmax=200)                         ## <-- xmax=200\n",
    "\n",
    "plt.show()"
   ]
  },
  {
   "cell_type": "code",
   "execution_count": null,
   "metadata": {},
   "outputs": [],
   "source": []
  },
  {
   "cell_type": "markdown",
   "metadata": {},
   "source": [
    "## *Pie Chart: Nationality*"
   ]
  },
  {
   "cell_type": "code",
   "execution_count": null,
   "metadata": {},
   "outputs": [],
   "source": [
    "## Creating a list of all items in the 'Nationality' field\n",
    "\n",
    "nationality_list = []\n",
    "\n",
    "for row in metadata_table:\n",
    "    nationality_list.append(row[4])\n",
    "\n",
    "nationality_list[:10]                  # Viewing first 10 items in nationality_list"
   ]
  },
  {
   "cell_type": "code",
   "execution_count": null,
   "metadata": {},
   "outputs": [],
   "source": [
    "## Viewing a few more\n",
    "\n",
    "print(nationality_list[90])\n",
    "print(nationality_list[8])\n",
    "print(nationality_list[3329])\n",
    "print(nationality_list[703])"
   ]
  },
  {
   "cell_type": "code",
   "execution_count": null,
   "metadata": {},
   "outputs": [],
   "source": [
    "## Stripping parentheses from the beginning and end of each item in 'nationality_list'\n",
    "\n",
    "nationality_list_cleaned = [item.replace('() ', '').strip('()') for item in nationality_list]\n",
    "\n",
    "nationality_list_cleaned[10000:10010]\n",
    "\n",
    "# Note that some fields include multiple entries, so we're not done. Let's try again:"
   ]
  },
  {
   "cell_type": "code",
   "execution_count": null,
   "metadata": {},
   "outputs": [],
   "source": [
    "## Splitting each item at ')' and discarding everything that follows.\n",
    "# We're also using .replace() to remove empty '()' entries when they appear first in a list of nationalities.\n",
    "# We're extracting the first nationality listed and discarding the rest, which may distort the data.\n",
    "\n",
    "nationality_list_cleaned = [item.replace('() ', '').split(')')[0].strip('()') for item in nationality_list]\n",
    "\n",
    "nationality_list_cleaned[10000:10010]"
   ]
  },
  {
   "cell_type": "code",
   "execution_count": null,
   "metadata": {},
   "outputs": [],
   "source": [
    "### Pie chart with manual labels:\n",
    "\n",
    "## Looping through list of nationalities, keeping a tally of how many times various values appear\n",
    "\n",
    "american_tally = 0\n",
    "french_tally = 0\n",
    "british_tally = 0\n",
    "missing_tally = 0\n",
    "other_tally = 0\n",
    "\n",
    "\n",
    "for item in nationality_list_cleaned:\n",
    "    if item == 'American':\n",
    "        american_tally += 1\n",
    "    elif item == 'French':\n",
    "        french_tally += 1\n",
    "    elif item == 'British':\n",
    "        british_tally += 1\n",
    "    elif item == '':\n",
    "        missing_tally += 1\n",
    "    else:\n",
    "        other_tally +=1"
   ]
  },
  {
   "cell_type": "code",
   "execution_count": null,
   "metadata": {},
   "outputs": [],
   "source": [
    "### Pie chart with manual labels:\n",
    "\n",
    "import matplotlib.pyplot as plt\n",
    "%matplotlib inline\n",
    "\n",
    "plt.figure(figsize=(8,8))\n",
    "\n",
    "## A list of numbers, each representing the size of a different category\n",
    "size_list = [american_tally, french_tally, british_tally, missing_tally, other_tally] \n",
    "print(size_list)\n",
    "\n",
    "## A list of labels corresponding in order with the size list above\n",
    "label_list = ['American', 'French', 'British', 'Missing nationality', 'Other']\n",
    "print(label_list)\n",
    "\n",
    "## Colors corresponding in order with the lists above\n",
    "# List of color names: https://stackoverflow.com/questions/22408237/named-colors-in-matplotlib\n",
    "color_list = ['darksalmon', 'yellowgreen', 'lightcoral', 'lightskyblue', 'thistle']\n",
    "\n",
    "# Plot\n",
    "plt.pie(size_list, labels=label_list, colors=color_list, autopct='%1.1f%%', shadow=True, startangle=100) \n",
    "\n",
    "plt.show()"
   ]
  },
  {
   "cell_type": "code",
   "execution_count": null,
   "metadata": {},
   "outputs": [],
   "source": [
    "### Pie chart with automatic labels:\n",
    "\n",
    "## Creating a list of nationalities by how many times they appear in 'nationality_list', sorted in descending order\n",
    "\n",
    "from operator import itemgetter\n",
    "import collections\n",
    "\n",
    "counter = collections.Counter(nationality_list_cleaned)\n",
    "\n",
    "nationality_count_pairs = sorted(counter.most_common(), key=itemgetter(1,0), reverse=True)\n",
    "\n",
    "nationality_count_pairs[:10]"
   ]
  },
  {
   "cell_type": "code",
   "execution_count": null,
   "metadata": {},
   "outputs": [],
   "source": [
    "## Creating separate, corresponding lists for nationality values and how many times they appear in MoMA's collection\n",
    "\n",
    "nationality_descending = [item[0] for item in nationality_count_pairs]\n",
    "count_descending = [item[1] for item in nationality_count_pairs]\n",
    "\n",
    "print(nationality_descending[:10])\n",
    "print(count_descending[:10])"
   ]
  },
  {
   "cell_type": "code",
   "execution_count": null,
   "metadata": {},
   "outputs": [],
   "source": [
    "### Pie chart with automatic labels:\n",
    "\n",
    "import matplotlib.pyplot as plt\n",
    "import numpy as np\n",
    "\n",
    "plt.figure(figsize=(8,8))\n",
    "\n",
    "## A list of numbers, each representing the size of a different category\n",
    "size_list = count_descending\n",
    "print(size_list)\n",
    "\n",
    "## A list of labels corresponding in order with the size list above\n",
    "label_list = nationality_descending\n",
    "print(label_list)\n",
    "\n",
    "## Colors corresponding in order with the lists above, repeating\n",
    "# List of color names: https://stackoverflow.com/questions/22408237/named-colors-in-matplotlib\n",
    "color_list = ['darksalmon', 'yellowgreen', 'lightcoral', 'lightskyblue', 'thistle']\n",
    "\n",
    "# Plot\n",
    "plt.pie(size_list, labels=label_list, colors=color_list, autopct='%1.1f%%', shadow=True, startangle=100)\n",
    "\n",
    "plt.show()"
   ]
  },
  {
   "cell_type": "code",
   "execution_count": null,
   "metadata": {},
   "outputs": [],
   "source": []
  },
  {
   "cell_type": "code",
   "execution_count": null,
   "metadata": {},
   "outputs": [],
   "source": [
    "### Pie chart with automatic labels:\n",
    "\n",
    "# Hiding labels for small values to make pie chart more readable\n",
    "\n",
    "import matplotlib.pyplot as plt\n",
    "import numpy as np\n",
    "\n",
    "plt.figure(figsize=(9,9))\n",
    "\n",
    "\n",
    "## A list of numbers, each representing the size of a different category\n",
    "size_list = count_descending\n",
    "\n",
    "## A list of labels corresponding in order with the size list above\n",
    "label_list = nationality_descending[:10] + ['']*(len(nationality_descending)-10)  ## Keeping the first 10 nationality labels  \n",
    "                                                                                  ## and setting the rest to empty strings\n",
    "## Colors corresponding in order with the lists above, repeating\n",
    "# List of color names: https://stackoverflow.com/questions/22408237/named-colors-in-matplotlib\n",
    "color_list = ['darksalmon', 'yellowgreen', 'lightcoral', 'lightskyblue', 'thistle']\n",
    "\n",
    "def my_autopct(pct):                                              ## Defining a function we'll point to in plt.pie() that\n",
    "    return ('%.2f' % pct) if pct > 1.5 else ''                    ## returns '' (empty string) for percentages below 1.5\n",
    "\n",
    "# Plot\n",
    "plt.pie(size_list, labels=label_list, colors=color_list, autopct=my_autopct, shadow=True, startangle=100)\n",
    "\n",
    "plt.show()"
   ]
  },
  {
   "cell_type": "code",
   "execution_count": null,
   "metadata": {},
   "outputs": [],
   "source": []
  },
  {
   "cell_type": "markdown",
   "metadata": {},
   "source": [
    "## *Bar Graph: Medium*"
   ]
  },
  {
   "cell_type": "code",
   "execution_count": null,
   "metadata": {},
   "outputs": [],
   "source": [
    "## Creating lists of rows that contain the words 'lithograph', 'woodcut', and 'engraving' in the 'Medium' field\n",
    "\n",
    "lithograph_rows = []\n",
    "woodcut_rows = []\n",
    "engraving_rows = []\n",
    "\n",
    "for row in metadata_table:\n",
    "    medium = row[9]                     # 'Medium' field located at index 9 in each row            \n",
    "    if 'lithograph' in medium.lower():\n",
    "        lithograph_rows.append(row)     \n",
    "    if 'woodcut' in medium.lower():     # Using .lower() on field to standardize it, and looking for a lowercase substring \n",
    "        woodcut_rows.append(row)\n",
    "    if 'engraving' in medium.lower():\n",
    "        engraving_rows.append(row)\n",
    "\n",
    "# Note that these lists of rows overlap slightly. Some items in MoMA's collection may include two or three of the key words."
   ]
  },
  {
   "cell_type": "code",
   "execution_count": null,
   "metadata": {},
   "outputs": [],
   "source": [
    "## Plotting a basic bar graph\n",
    "\n",
    "import matplotlib.pyplot as plt\n",
    "import numpy as np\n",
    "\n",
    "plt.figure(figsize=(10,7))\n",
    "\n",
    "x_values = [len(lithograph_rows), len(woodcut_rows), len(engraving_rows)]  ## Using the length of each category's \n",
    "                                                                           # list of rows to set bar heights in plot\n",
    "x_pos = range(len(x_values))          # Location of labels along x axis\n",
    "\n",
    "plt.bar(x_pos, x_values, alpha=0.5)   # Plotting the bar graph\n",
    "\n",
    "plt.show()"
   ]
  },
  {
   "cell_type": "code",
   "execution_count": null,
   "metadata": {},
   "outputs": [],
   "source": [
    "## Plotting bar graph with labels\n",
    "\n",
    "import matplotlib.pyplot as plt\n",
    "import numpy as np\n",
    "\n",
    "plt.figure(figsize=(10,7))\n",
    "\n",
    "x_values = [len(lithograph_rows), len(woodcut_rows), len(engraving_rows)]  ## Using the length of each category's \n",
    "                                                                           # list of rows for bar heights in plot\n",
    "x_pos = range(len(x_values))          # Location of labels along x axis\n",
    "\n",
    "# Setting custom labels, aligned with the position of each bar\n",
    "x_labels = ['Lithographs', 'Woodcuts', 'Engravings']          # Labels for x axis\n",
    "plt.xticks(x_pos, x_labels)\n",
    "\n",
    "plt.bar(x_pos, x_values, alpha=0.5)    # Plotting the bar graph\n",
    "\n",
    "# Setting title and y axis label\n",
    "plt.title('Number of artworks by medium')\n",
    "plt.ylabel('Number of artworks')\n",
    " \n",
    "plt.show()"
   ]
  },
  {
   "cell_type": "code",
   "execution_count": null,
   "metadata": {},
   "outputs": [],
   "source": []
  }
 ],
 "metadata": {
  "kernelspec": {
   "display_name": "Python 3",
   "language": "python",
   "name": "python3"
  },
  "language_info": {
   "codemirror_mode": {
    "name": "ipython",
    "version": 3
   },
   "file_extension": ".py",
   "mimetype": "text/x-python",
   "name": "python",
   "nbconvert_exporter": "python",
   "pygments_lexer": "ipython3",
   "version": "3.5.2"
  }
 },
 "nbformat": 4,
 "nbformat_minor": 2
}

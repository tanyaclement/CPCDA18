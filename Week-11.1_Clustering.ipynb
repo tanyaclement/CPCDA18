{
 "cells": [
  {
   "cell_type": "markdown",
   "metadata": {},
   "source": [
    "# *Unsupervised learning: k-means clustering*\n",
    "\n",
    "[http://scikit-learn.org/stable/modules/generated/sklearn.cluster.KMeans.html](http://scikit-learn.org/stable/modules/generated/sklearn.cluster.KMeans.html)"
   ]
  },
  {
   "cell_type": "code",
   "execution_count": 1,
   "metadata": {},
   "outputs": [],
   "source": [
    "## Importing basic packages\n",
    "\n",
    "import os\n",
    "import random\n",
    "import numpy as np"
   ]
  },
  {
   "cell_type": "code",
   "execution_count": 2,
   "metadata": {},
   "outputs": [],
   "source": [
    "%%capture\n",
    "## Downloading several hundred New York Times articles as text files\n",
    "\n",
    "os.chdir('/sharedfolder/')\n",
    "\n",
    "!wget -N https://github.com/pcda17/pcda17.github.io/raw/master/week/10/nyt_articles_11-9-2017.zip\n",
    "!unzip -o nyt_articles_11-9-2017.zip"
   ]
  },
  {
   "cell_type": "code",
   "execution_count": 3,
   "metadata": {},
   "outputs": [
    {
     "name": "stdout",
     "output_type": "stream",
     "text": [
      "451\n"
     ]
    },
    {
     "data": {
      "text/plain": [
       "\"The seal stone comes from an untouched shaft grave near the ancient palace of Pylos. The grave was discovered in May 2015 by Jack L. Davis and Sharon R. Stocker, archaeologists at the University of Cincinnati who had been digging at Pylos for more than 25 years.  “It was after cleaning, during the process of drawing and photography, that our excitement slowly rose as we gradually came to realize that we had unearthed a masterpiece,” they wrote in the journal Hesperia.  Photo  The seal stone presents two mysteries. One is how and why it was engraved in such detail. The other is whether its battle scene, strongly evocative of those in Homer’s “Iliad” and “Odyssey,” depicts an event that contributed to the oral tradition behind the works of Homer.  The seal stone’s owner, known as the Griffin Warrior after the mythical animal depicted in his grave, was buried around 1450 B.C. He lived at a critical period when the Minoan civilization of Crete was being transferred to cities of the Greek mainland.  Local chieftains, as the Griffin Warrior may have been, used precious items from Crete to advertise their membership in the Greek-speaking elite of the incipient Mycenaean civilization, the first on mainland Europe. Their descendants, a century or so later, built the great palaces at Pylos, Mycenae and Tiryns, places mentioned by Homer.  Dr. Davis and Dr. Stocker believe that the seal stone, like other objects in the Griffin Warrior’s grave, was made on Crete. Work of such quality was not being produced anywhere on the Greek mainland at the time. The detail is so fine that it seems the engraver would have needed a magnifying glass, as would admirers of his work.  Yet no magnifying implements have been found on Crete from this era. Perhaps the engraver was nearsighted, the two archaeologists suggest.  Advertisement Continue reading the main story  Fritz Blakolmer, an expert on Aegean art at the University of Vienna, argues that the seal stone is a miniature copy of a much larger original, probably a stucco-embellished wall painting like those found at the Palace of Knossos on Crete. He said the seal must have been engraved by someone with a magnifying glass, even though none has been found, and dismissed the possibility that people of that era had sharper eyesight than today.  More Reporting on Archaeology  The seal, carved on a hard stone known as agate, shows a victorious hero slaying an adversary while a third warrior lies dead in the foreground. The seal stone is mounted so that it can be worn on the wrist, and indeed the hero is wearing just such an item, as if it were a wristwatch.  The two defeated warriors seem to belong to the same group, because both are wearing patterned kilts whereas the hero sports a codpiece. The scene evidently represents some event that would have been familiar to the Minoans who made the seal stone and to the Griffin Warrior’s community.  Photo  The seal stone’s possible relevance to the Homeric epics is intriguing but elusive. Early archaeologists, such as Heinrich Schliemann, who first excavated Troy and Mycenae, believed the “Iliad” recounted historical events and were quick to see proof of this in the artifacts they found.  Later archaeologists were more doubtful, but allowed that the destruction of Troy in 1200 B.C. could have been remembered in oral poetry for 500 years until the Homeric poems were first written down, around 700 B.C.  The Griffin Warrior was buried around 1450 B.C., distancing him even further from the first written version of Homer. Still, there is some evidence that the oral tradition behind the Homeric epics traces as far back as Linear B, the first Greek writing system.  Newsletter Sign Up Continue reading the main story Please verify you're not a robot by clicking the box. Invalid email address. Please re-enter. You must select a newsletter to subscribe to. Sign Up You agree to receive occasional updates and special offers for The New York Times's products and services. Thank you for subscribing. An error has occurred. Please try again later. View all New York Times newsletters.  Linear B was adapted by the Mycenaean Greeks from Linear A, used by the Minoans. The oldest known Linear B inscriptions date to 1450 B.C., and the script disappeared after the collapse of Mycenaean civilization around 1200 B.C.  Some of the scansion problems in the Homeric poems “can be resolved if you restore older forms of Greek which are consistent with the dialect recorded in Linear B documents,” said Dr. Bennet of the British School at Athens.  So the oral tradition that led to the Homeric epics perhaps stretched over seven centuries.  “We’re not saying this is a representation from Homer,” Dr. Stocker said of the tableau on the seal stone, while admitting it would be “fun to believe” the hero is Achilles. Rather, the image “is part of a cycle of stories familiar to both Mycenaeans and Minoans.”  Dr. Blakolmer, too, finds it tempting to see the figures on the seal as Homeric heroes, like Hector or Nestor, but in his view the temptation must be resisted.  Advertisement Continue reading the main story  “Fifty years ago, you would find nice attributions to Homeric heroes, but today’s academics are very careful in their Homeric attributions,” he said. “We have to make our own mistakes, not theirs.”\""
      ]
     },
     "execution_count": 3,
     "metadata": {},
     "output_type": "execute_result"
    }
   ],
   "source": [
    "## Loading all text files in the current directory as a list of strings\n",
    "\n",
    "os.chdir('/sharedfolder/nyt_articles_11-9-2017/')\n",
    "\n",
    "document_list = []\n",
    "\n",
    "for filename in [item for item in os.listdir('./') if '.txt' in item]: # Excluding files other than .txt with a list comprehension\n",
    "    text_data = open(filename).read()\n",
    "    document_list.append(text_data)\n",
    "\n",
    "print(len(document_list)) # Printing number of documents in list\n",
    "\n",
    "random.choice(document_list) # Viewing a single document chosen at random"
   ]
  },
  {
   "cell_type": "code",
   "execution_count": 4,
   "metadata": {},
   "outputs": [
    {
     "data": {
      "text/plain": [
       "['i', 'me', 'my', 'myself', 'we', 'our', 'ours', 'ourselves', 'you', 'your']"
      ]
     },
     "execution_count": 4,
     "metadata": {},
     "output_type": "execute_result"
    }
   ],
   "source": [
    "## Creating stop word list\n",
    "\n",
    "from nltk.corpus import stopwords\n",
    "import string\n",
    "\n",
    "stop_words = stopwords.words('english') + [\"'s\", \"'re\", '”', '“', '‘', '’', '—'] + list(string.punctuation)\n",
    "\n",
    "stop_words[:10]     ## Viewing first 10 stop words"
   ]
  },
  {
   "cell_type": "code",
   "execution_count": 5,
   "metadata": {},
   "outputs": [],
   "source": [
    "## Tokenizing, stemming, and removing stop words from our list of documents\n",
    "\n",
    "from nltk.tokenize import word_tokenize\n",
    "from nltk.stem.porter import PorterStemmer\n",
    "\n",
    "stemmer = PorterStemmer()\n",
    "\n",
    "documents_filtered = []\n",
    "\n",
    "for document in document_list:\n",
    "    token_list = word_tokenize(document.lower())                                 ## Tokenizing\n",
    "    tokens_filtered = [item for item in token_list if (item not in stop_words)]  ## Removing stop words\n",
    "    tokens_filtered = [stemmer.stem(item) for item in tokens_filtered]           ## Stemming\n",
    "    documents_filtered.append(' '.join(tokens_filtered))"
   ]
  },
  {
   "cell_type": "code",
   "execution_count": 6,
   "metadata": {},
   "outputs": [
    {
     "data": {
      "text/plain": [
       "'blockbust season video game holiday season way game industri push divers lineup titl new instal long-run franchis like activis call duti ubisoft assassin creed ea long-await star war battlefront ii real crowd pleaser year may hardwar microsoft nintendo offer new upgrad consol soni rereleas playstat 4 consol power ps4 pro last year hottest hardwar ticket nintendo switch consol offer gamer option plug home pull dock play go even though releas eight month ago switch still popular suppli expect problem end year arriv week microsoft new xbox one x consol featur process power 4k resolut mean defin pictur qualiti also expect make wave consol support hundr game xbox back catalog includ xbox one titl well select xbox 360 titl advertis continu read main stori expect fuel spend game rose 7 percent 14 billion first half year period 2016 accord npd group expect growth continu edg holiday said mat piscatella analyz video game industri npd'"
      ]
     },
     "execution_count": 6,
     "metadata": {},
     "output_type": "execute_result"
    }
   ],
   "source": [
    "## Viewing a preprocessed document\n",
    "\n",
    "random.choice(documents_filtered)"
   ]
  },
  {
   "cell_type": "code",
   "execution_count": 7,
   "metadata": {},
   "outputs": [],
   "source": [
    "## Vectorizing preprocessed documents\n",
    "\n",
    "from sklearn.feature_extraction.text import CountVectorizer\n",
    "\n",
    "vectorizer = CountVectorizer()\n",
    "\n",
    "X = vectorizer.fit_transform(documents_filtered) "
   ]
  },
  {
   "cell_type": "code",
   "execution_count": 8,
   "metadata": {},
   "outputs": [
    {
     "data": {
      "text/plain": [
       "['amort',\n",
       " 'amount',\n",
       " 'amped',\n",
       " 'ampl',\n",
       " 'amplif',\n",
       " 'amplifi',\n",
       " 'ampush',\n",
       " 'amsterdam',\n",
       " 'amtrak',\n",
       " 'amulet',\n",
       " 'amus',\n",
       " 'ana',\n",
       " 'anab',\n",
       " 'anal',\n",
       " 'analog',\n",
       " 'analogu',\n",
       " 'analys',\n",
       " 'analysi',\n",
       " 'analyst',\n",
       " 'analyt']"
      ]
     },
     "execution_count": 8,
     "metadata": {},
     "output_type": "execute_result"
    }
   ],
   "source": [
    "## Creating a vocabulary list corresponding to the vectors we created above\n",
    "\n",
    "vocabulary = vectorizer.get_feature_names()\n",
    "\n",
    "vocabulary[1140:1160]"
   ]
  },
  {
   "cell_type": "code",
   "execution_count": 9,
   "metadata": {},
   "outputs": [
    {
     "data": {
      "text/plain": [
       "array([2, 2, 2, 2, 2, 2, 2, 2, 2, 6, 2, 2, 2, 2, 0, 2, 0, 2, 2, 2], dtype=int32)"
      ]
     },
     "execution_count": 9,
     "metadata": {},
     "output_type": "execute_result"
    }
   ],
   "source": [
    "## Clustering documents\n",
    "\n",
    "from sklearn.cluster import KMeans\n",
    "\n",
    "kmeans_classifier = KMeans(n_clusters=8, init='k-means++', n_init=10, max_iter=500, algorithm='auto')\n",
    "                                   ## ^ docuements to be grouped in 8 clusters \n",
    "\n",
    "cluster_classes = kmeans_classifier.fit_predict(X) \n",
    "\n",
    "cluster_classes[:20]               ## Viewing first 20 cluster assignments"
   ]
  },
  {
   "cell_type": "code",
   "execution_count": 10,
   "metadata": {},
   "outputs": [
    {
     "name": "stdout",
     "output_type": "stream",
     "text": [
      "451\n",
      "451\n",
      "451\n"
     ]
    }
   ],
   "source": [
    "## Our cluster assignments and document lists are the same size, in the same order.\n",
    "\n",
    "print(len(cluster_classes))\n",
    "\n",
    "print(len(documents_filtered))\n",
    "\n",
    "print(len(document_list))"
   ]
  },
  {
   "cell_type": "code",
   "execution_count": 11,
   "metadata": {},
   "outputs": [
    {
     "name": "stdout",
     "output_type": "stream",
     "text": [
      "Cluster assignment:\n",
      "2\n",
      "\n",
      "Document:\n",
      "“The one thing that I never wanted for him was to feel any type of racism where he felt like he was being targeted simply because he’s an African-American male,” Ms. Carr said.  It is unclear who took the video, which appears to have been recorded with a phone, and when. Ms. Carr said her daughter brought it to her attention on Nov. 2.  Ms. Carr asked that her son’s name not be published because he is a minor and “not the type of kid that really likes a lot of attention.” She said he told her that he had been laughing with some friends during a physics lesson, and that the teacher had gotten frustrated.  “I believe that he did like his teacher, and he believed that his teacher liked him,” she said, adding that Mr. Hagan apologized to her son.  Mr. Hagan did not respond to phone calls or an email seeking comment on Wednesday.  Ms. Carr said she contacted the Rockdale County Sheriff’s Department. A spokesman for the department said on Tuesday that a report had been filed, but he would not say whether the department was conducting an investigation of its own, referring the question to the school board.  The Rockdale County school district is investigating the episode, said Cindy Ball, a spokeswoman. “Rockdale County Public Schools expects all employees to conduct themselves professionally and ethically to provide a positive teaching and learning environment for students and staff,” she added in an emailed statement. She confirmed that Mr. Hagan was on paid administrative leave.  Advertisement Continue reading the main story  Ms. Carr is calling for Mr. Hagan to be fired.  “I hate that my son had to be the example,” she said. “But this is about awareness and fairness. We don’t send our kids to school to be threatened. We send them to be educated and protected.”\n"
     ]
    }
   ],
   "source": [
    "## We can view a document and its assigned cluster by accessing the same index in both lists\n",
    "\n",
    "index_num = 130\n",
    "\n",
    "print('Cluster assignment:')\n",
    "print(cluster_classes[index_num])\n",
    "print()\n",
    "print('Document:')\n",
    "print(document_list[index_num])"
   ]
  },
  {
   "cell_type": "code",
   "execution_count": 12,
   "metadata": {},
   "outputs": [],
   "source": [
    "## Write each document to a new text file, with each cluster of documents in its own directory\n",
    "\n",
    "try: os.mkdir('/sharedfolder/nyt_clusters_11-9-2017/')\n",
    "except: pass\n",
    "\n",
    "for i in range(len(documents_filtered)):\n",
    "    \n",
    "    out_dir = '/sharedfolder/nyt_clusters_11-9-2017/Cluster_' + str(cluster_classes[i])  ## Creating a directory pathname that\n",
    "                                                                                         ## includes the assigned cluster number.\n",
    "    try: os.mkdir(out_dir)  ## Creating the out_dir directory if it does not yet exist\n",
    "    except: pass\n",
    "    \n",
    "    os.chdir(out_dir)\n",
    "    \n",
    "    out_filename = 'Document_' + str(i) + '.txt'    ## Creating a filename for the text file\n",
    "    \n",
    "    with open(out_filename, 'w') as file_out:\n",
    "        file_out.write(document_list[i])            ## Writing text from original (non-preprocessed) document list\n"
   ]
  },
  {
   "cell_type": "code",
   "execution_count": 13,
   "metadata": {},
   "outputs": [
    {
     "data": {
      "text/plain": [
       "array([2], dtype=int32)"
      ]
     },
     "execution_count": 13,
     "metadata": {},
     "output_type": "execute_result"
    }
   ],
   "source": [
    "## Classifying a new text into an existing cluster\n",
    "\n",
    "input_vector = vectorizer.transform(['Even the budget office is revising its estimates and has predicted the new numbers would be smaller.'])\n",
    "\n",
    "kmeans_classifier.predict(input_vector)"
   ]
  },
  {
   "cell_type": "code",
   "execution_count": null,
   "metadata": {},
   "outputs": [],
   "source": []
  },
  {
   "cell_type": "markdown",
   "metadata": {},
   "source": [
    "## *Scatter Plots*"
   ]
  },
  {
   "cell_type": "code",
   "execution_count": 14,
   "metadata": {},
   "outputs": [
    {
     "data": {
      "image/png": "[encoded data removed]",
      "text/plain": [
       "<matplotlib.figure.Figure at 0x7f77516a1d68>"
      ]
     },
     "metadata": {},
     "output_type": "display_data"
    }
   ],
   "source": [
    "## A simple scatter plot example\n",
    "\n",
    "import random\n",
    "import matplotlib.pyplot as plt\n",
    "%matplotlib inline\n",
    "\n",
    "plt.rcParams['figure.figsize'] = (10, 7)  # Setting default plot size\n",
    "\n",
    "x_vals_1 = [1.92, 1.79, 1.96, 1.4, 1.61, 1.23, 1.43, 1.85, 2.07, 2.24, 2.11, 1.78, 2.21, 1.79, 1.33]\n",
    "y_vals_1 = [2.5, 2.11, 2.19, 1.6, 2.83, 2.55, 2.33, 2.09, 2.32, 2.72, 2.05, 2.4, 2.55, 2.83, 1.58]\n",
    "\n",
    "x_vals_2 = [3.63, 3.12, 3.21, 3.15, 3.56, 3.17, 3.05, 3.14, 2.87, 3.65, 2.82, 3.34, 3.7, 2.95, 3.15]\n",
    "y_vals_2 = [3.1, 4.27, 4.03, 3.37, 3.22, 3.89, 3.27, 2.64, 3.09, 4.1, 3.61, 3.74, 3.71, 3.51, 2.9]\n",
    "\n",
    "\n",
    "plt.scatter(x_vals_1, y_vals_1, label='Class 1', c='indigo', alpha=0.5)\n",
    "\n",
    "plt.scatter(x_vals_2, y_vals_2, label='Class 2', c='blue', alpha=0.5)\n",
    "\n",
    "plt.ylim(ymin=0, ymax=5)\n",
    "plt.xlim(xmin=0, xmax=5)\n",
    "\n",
    "plt.legend(loc=4)\n",
    "\n",
    "plt.show()"
   ]
  },
  {
   "cell_type": "code",
   "execution_count": 15,
   "metadata": {},
   "outputs": [
    {
     "name": "stderr",
     "output_type": "stream",
     "text": [
      "/usr/local/lib/python3.5/dist-packages/sklearn/discriminant_analysis.py:442: UserWarning: The priors do not sum to 1. Renormalizing\n",
      "  UserWarning)\n",
      "/usr/local/lib/python3.5/dist-packages/sklearn/discriminant_analysis.py:388: UserWarning: Variables are collinear.\n",
      "  warnings.warn(\"Variables are collinear.\")\n"
     ]
    },
    {
     "data": {
      "image/png": "[encoded data removed]",
      "text/plain": [
       "<matplotlib.figure.Figure at 0x7f774b0e5208>"
      ]
     },
     "metadata": {},
     "output_type": "display_data"
    }
   ],
   "source": [
    "## Projecting all vectors to 2 dimensions using linear discriminant analysis (LDA) and viewing a scatter plot\n",
    "\n",
    "from sklearn.discriminant_analysis import LinearDiscriminantAnalysis as LDA\n",
    "import pandas as pd\n",
    "import matplotlib.pyplot as plt\n",
    "%matplotlib inline\n",
    "\n",
    "plt.rcParams['figure.figsize'] = (10, 7)  # Setting default plot size\n",
    "\n",
    "lda = LDA(n_components=2) #2-dimensional LDA\n",
    "\n",
    "y = cluster_classes\n",
    "\n",
    "lda_transformed = pd.DataFrame(lda.fit_transform(X.toarray(), y))\n",
    "\n",
    "lda_transformed['y'] = y\n",
    "\n",
    "plt.scatter(lda_transformed[lda_transformed['y']==0][0], lda_transformed[lda_transformed['y']==0][1], label='0', c='blue', alpha=0.4)\n",
    "plt.scatter(lda_transformed[lda_transformed['y']==1][0], lda_transformed[lda_transformed['y']==1][1], label='1', c='green', alpha=0.4)\n",
    "plt.scatter(lda_transformed[lda_transformed['y']==2][0], lda_transformed[lda_transformed['y']==2][1], label='2', c='red', alpha=0.4)\n",
    "plt.scatter(lda_transformed[lda_transformed['y']==3][0], lda_transformed[lda_transformed['y']==3][1], label='3', c='violet', alpha=0.4)\n",
    "plt.scatter(lda_transformed[lda_transformed['y']==4][0], lda_transformed[lda_transformed['y']==4][1], label='4', c='orange', alpha=0.4)\n",
    "plt.scatter(lda_transformed[lda_transformed['y']==5][0], lda_transformed[lda_transformed['y']==5][1], label='5', c='magenta', alpha=0.4)\n",
    "plt.scatter(lda_transformed[lda_transformed['y']==6][0], lda_transformed[lda_transformed['y']==6][1], label='6', c='black', alpha=0.4)\n",
    "plt.scatter(lda_transformed[lda_transformed['y']==7][0], lda_transformed[lda_transformed['y']==7][1], label='7', c='indigo', alpha=0.4)\n",
    "\n",
    "plt.legend(loc=2)\n",
    "\n",
    "plt.show()"
   ]
  },
  {
   "cell_type": "code",
   "execution_count": 16,
   "metadata": {},
   "outputs": [
    {
     "data": {
      "image/png": "[encoded data removed]",
      "text/plain": [
       "<matplotlib.figure.Figure at 0x7f77512f03c8>"
      ]
     },
     "metadata": {},
     "output_type": "display_data"
    }
   ],
   "source": [
    "## Projecting all vectors to 2 dimensions using principal component analysis (PCA) and viewing a scatter plot\n",
    "\n",
    "from sklearn.decomposition import PCA\n",
    "import matplotlib.pyplot as plt\n",
    "%matplotlib inline\n",
    "\n",
    "plt.rcParams['figure.figsize'] = (10, 7)  # Setting default plot size\n",
    "\n",
    "pca = PCA(n_components=2) #2-dimensional LDA\n",
    "\n",
    "pca_transformed = pca.fit_transform(X.toarray())\n",
    "\n",
    "plt.scatter([pair[0] for pair in pca_transformed], [pair[1] for pair in pca_transformed], label='0', c='blue', alpha=0.4)\n",
    "\n",
    "plt.legend(loc=2)\n",
    "\n",
    "plt.show()"
   ]
  },
  {
   "cell_type": "code",
   "execution_count": null,
   "metadata": {},
   "outputs": [],
   "source": []
  },
  {
   "cell_type": "code",
   "execution_count": null,
   "metadata": {},
   "outputs": [],
   "source": []
  },
  {
   "cell_type": "code",
   "execution_count": null,
   "metadata": {},
   "outputs": [],
   "source": []
  },
  {
   "cell_type": "code",
   "execution_count": null,
   "metadata": {},
   "outputs": [],
   "source": []
  },
  {
   "cell_type": "markdown",
   "metadata": {},
   "source": [
    "### *Clustering in topic space*"
   ]
  },
  {
   "cell_type": "code",
   "execution_count": 17,
   "metadata": {},
   "outputs": [],
   "source": [
    "%%capture\n",
    "!pip3 install lda"
   ]
  },
  {
   "cell_type": "code",
   "execution_count": 18,
   "metadata": {},
   "outputs": [
    {
     "name": "stderr",
     "output_type": "stream",
     "text": [
      "INFO:lda:n_documents: 451\n",
      "INFO:lda:vocab_size: 18084\n",
      "INFO:lda:n_words: 215533\n",
      "INFO:lda:n_topics: 8\n",
      "INFO:lda:n_iter: 1000\n",
      "INFO:lda:<0> log likelihood: -2393892\n",
      "INFO:lda:<10> log likelihood: -2014323\n",
      "INFO:lda:<20> log likelihood: -1943768\n",
      "INFO:lda:<30> log likelihood: -1916179\n",
      "INFO:lda:<40> log likelihood: -1903004\n",
      "INFO:lda:<50> log likelihood: -1895432\n",
      "INFO:lda:<60> log likelihood: -1890202\n",
      "INFO:lda:<70> log likelihood: -1886172\n",
      "INFO:lda:<80> log likelihood: -1882790\n",
      "INFO:lda:<90> log likelihood: -1881253\n",
      "INFO:lda:<100> log likelihood: -1878386\n",
      "INFO:lda:<110> log likelihood: -1877507\n",
      "INFO:lda:<120> log likelihood: -1876716\n",
      "INFO:lda:<130> log likelihood: -1875726\n",
      "INFO:lda:<140> log likelihood: -1874009\n",
      "INFO:lda:<150> log likelihood: -1873489\n",
      "INFO:lda:<160> log likelihood: -1872991\n",
      "INFO:lda:<170> log likelihood: -1871191\n",
      "INFO:lda:<180> log likelihood: -1870671\n",
      "INFO:lda:<190> log likelihood: -1871127\n",
      "INFO:lda:<200> log likelihood: -1870061\n",
      "INFO:lda:<210> log likelihood: -1870073\n",
      "INFO:lda:<220> log likelihood: -1868546\n",
      "INFO:lda:<230> log likelihood: -1869260\n",
      "INFO:lda:<240> log likelihood: -1868797\n",
      "INFO:lda:<250> log likelihood: -1867713\n",
      "INFO:lda:<260> log likelihood: -1867267\n",
      "INFO:lda:<270> log likelihood: -1867609\n",
      "INFO:lda:<280> log likelihood: -1866628\n",
      "INFO:lda:<290> log likelihood: -1866893\n",
      "INFO:lda:<300> log likelihood: -1866330\n",
      "INFO:lda:<310> log likelihood: -1866128\n",
      "INFO:lda:<320> log likelihood: -1865501\n",
      "INFO:lda:<330> log likelihood: -1864469\n",
      "INFO:lda:<340> log likelihood: -1864504\n",
      "INFO:lda:<350> log likelihood: -1864123\n",
      "INFO:lda:<360> log likelihood: -1865171\n",
      "INFO:lda:<370> log likelihood: -1864338\n",
      "INFO:lda:<380> log likelihood: -1864510\n",
      "INFO:lda:<390> log likelihood: -1864194\n",
      "INFO:lda:<400> log likelihood: -1864684\n",
      "INFO:lda:<410> log likelihood: -1864747\n",
      "INFO:lda:<420> log likelihood: -1863900\n",
      "INFO:lda:<430> log likelihood: -1863741\n",
      "INFO:lda:<440> log likelihood: -1863783\n",
      "INFO:lda:<450> log likelihood: -1863224\n",
      "INFO:lda:<460> log likelihood: -1863785\n",
      "INFO:lda:<470> log likelihood: -1863952\n",
      "INFO:lda:<480> log likelihood: -1863270\n",
      "INFO:lda:<490> log likelihood: -1861825\n",
      "INFO:lda:<500> log likelihood: -1861608\n",
      "INFO:lda:<510> log likelihood: -1861503\n",
      "INFO:lda:<520> log likelihood: -1861849\n",
      "INFO:lda:<530> log likelihood: -1861532\n",
      "INFO:lda:<540> log likelihood: -1860782\n",
      "INFO:lda:<550> log likelihood: -1860889\n",
      "INFO:lda:<560> log likelihood: -1861049\n",
      "INFO:lda:<570> log likelihood: -1859974\n",
      "INFO:lda:<580> log likelihood: -1859662\n",
      "INFO:lda:<590> log likelihood: -1859316\n",
      "INFO:lda:<600> log likelihood: -1858667\n",
      "INFO:lda:<610> log likelihood: -1858596\n",
      "INFO:lda:<620> log likelihood: -1857721\n",
      "INFO:lda:<630> log likelihood: -1857975\n",
      "INFO:lda:<640> log likelihood: -1857778\n",
      "INFO:lda:<650> log likelihood: -1857872\n",
      "INFO:lda:<660> log likelihood: -1856831\n",
      "INFO:lda:<670> log likelihood: -1857965\n",
      "INFO:lda:<680> log likelihood: -1857244\n",
      "INFO:lda:<690> log likelihood: -1858114\n",
      "INFO:lda:<700> log likelihood: -1858114\n",
      "INFO:lda:<710> log likelihood: -1857324\n",
      "INFO:lda:<720> log likelihood: -1857593\n",
      "INFO:lda:<730> log likelihood: -1857209\n",
      "INFO:lda:<740> log likelihood: -1856411\n",
      "INFO:lda:<750> log likelihood: -1856702\n",
      "INFO:lda:<760> log likelihood: -1856216\n",
      "INFO:lda:<770> log likelihood: -1855825\n",
      "INFO:lda:<780> log likelihood: -1855751\n",
      "INFO:lda:<790> log likelihood: -1855872\n",
      "INFO:lda:<800> log likelihood: -1855810\n",
      "INFO:lda:<810> log likelihood: -1855826\n",
      "INFO:lda:<820> log likelihood: -1854771\n",
      "INFO:lda:<830> log likelihood: -1855077\n",
      "INFO:lda:<840> log likelihood: -1855310\n",
      "INFO:lda:<850> log likelihood: -1855564\n",
      "INFO:lda:<860> log likelihood: -1855199\n",
      "INFO:lda:<870> log likelihood: -1854780\n",
      "INFO:lda:<880> log likelihood: -1854396\n",
      "INFO:lda:<890> log likelihood: -1853942\n",
      "INFO:lda:<900> log likelihood: -1853807\n",
      "INFO:lda:<910> log likelihood: -1854071\n",
      "INFO:lda:<920> log likelihood: -1854336\n",
      "INFO:lda:<930> log likelihood: -1853786\n",
      "INFO:lda:<940> log likelihood: -1853378\n",
      "INFO:lda:<950> log likelihood: -1852638\n",
      "INFO:lda:<960> log likelihood: -1852731\n",
      "INFO:lda:<970> log likelihood: -1851410\n",
      "INFO:lda:<980> log likelihood: -1851858\n",
      "INFO:lda:<990> log likelihood: -1850982\n",
      "INFO:lda:<999> log likelihood: -1851069\n"
     ]
    },
    {
     "data": {
      "text/plain": [
       "<lda.lda.LDA at 0x7f7746a13198>"
      ]
     },
     "execution_count": 18,
     "metadata": {},
     "output_type": "execute_result"
    }
   ],
   "source": [
    "import lda\n",
    "\n",
    "model = lda.LDA(n_topics=8, n_iter=1000, random_state=1)\n",
    "\n",
    "model.fit(X)"
   ]
  },
  {
   "cell_type": "code",
   "execution_count": 19,
   "metadata": {},
   "outputs": [
    {
     "name": "stdout",
     "output_type": "stream",
     "text": [
      "451\n"
     ]
    },
    {
     "data": {
      "text/plain": [
       "array([[  9.73025048e-02,   2.12909441e-01,   2.12909441e-01,\n",
       "          9.63391137e-04,   9.63391137e-04,   9.63391137e-04,\n",
       "          9.63391137e-04,   4.73025048e-01],\n",
       "       [  6.56669463e-01,   8.82969799e-02,   2.11828859e-02,\n",
       "          2.09731544e-04,   1.90855705e-02,   3.79614094e-02,\n",
       "          1.76384228e-01,   2.09731544e-04]])"
      ]
     },
     "execution_count": 19,
     "metadata": {},
     "output_type": "execute_result"
    }
   ],
   "source": [
    "topic_features = model.doc_topic_\n",
    "\n",
    "print(len(topic_features))\n",
    "\n",
    "topic_features[:2]"
   ]
  },
  {
   "cell_type": "code",
   "execution_count": 20,
   "metadata": {},
   "outputs": [
    {
     "name": "stdout",
     "output_type": "stream",
     "text": [
      "451\n"
     ]
    },
    {
     "data": {
      "text/plain": [
       "array([1, 7, 6, 4, 2, 6, 5, 7, 7, 1, 7, 0, 3, 5, 3, 5, 2, 5, 0, 3], dtype=int32)"
      ]
     },
     "execution_count": 20,
     "metadata": {},
     "output_type": "execute_result"
    }
   ],
   "source": [
    "## Clustering documents using topic vectors (instead of vocabulary vectors, which we used above)\n",
    "\n",
    "from sklearn.cluster import KMeans\n",
    "\n",
    "kmeans_topic_classifier = KMeans(n_clusters=8, init='k-means++', n_init=15, max_iter=1000, algorithm='auto')\n",
    "                                         ## ^ docuements to be grouped in 8 clusters \n",
    "\n",
    "topic_cluster_classes = kmeans_topic_classifier.fit_predict(topic_features) \n",
    "\n",
    "print(len(topic_cluster_classes))\n",
    "\n",
    "topic_cluster_classes[:20]               ## Viewing first 20 cluster assignments"
   ]
  },
  {
   "cell_type": "code",
   "execution_count": 21,
   "metadata": {},
   "outputs": [],
   "source": [
    "## Write each document to a new text file, with each cluster of documents in its own directory\n",
    "\n",
    "try: os.mkdir('/sharedfolder/nyt_topic_clusters_11-9-2017/')\n",
    "except: pass\n",
    "\n",
    "for i in range(len(documents_filtered)):\n",
    "    \n",
    "    out_dir = '/sharedfolder/nyt_topic_clusters_11-9-2017/Cluster_' + str(topic_cluster_classes[i])  ## Creating a directory pathname that\n",
    "                                                                                         ## includes the assigned cluster number.\n",
    "    try: os.mkdir(out_dir)  ## Creating the out_dir directory if it does not yet exist\n",
    "    except: pass\n",
    "    \n",
    "    os.chdir(out_dir)\n",
    "    \n",
    "    out_filename = 'Document_' + str(i) + '.txt'    ## Creating a filename for the text file\n",
    "    \n",
    "    with open(out_filename, 'w') as file_out:\n",
    "        file_out.write(document_list[i])            ## Writing text from original (non-preprocessed) document list\n"
   ]
  },
  {
   "cell_type": "code",
   "execution_count": 22,
   "metadata": {},
   "outputs": [
    {
     "name": "stderr",
     "output_type": "stream",
     "text": [
      "/usr/local/lib/python3.5/dist-packages/sklearn/discriminant_analysis.py:388: UserWarning: Variables are collinear.\n",
      "  warnings.warn(\"Variables are collinear.\")\n"
     ]
    },
    {
     "data": {
      "image/png": "[encoded data removed]",
      "text/plain": [
       "<matplotlib.figure.Figure at 0x7f777478e550>"
      ]
     },
     "metadata": {},
     "output_type": "display_data"
    }
   ],
   "source": [
    "## Projecting all topic vectors to 2 dimensions using linear discriminant analysis (LDA) and viewing a scatter plot\n",
    "\n",
    "from sklearn.discriminant_analysis import LinearDiscriminantAnalysis as LDA\n",
    "import pandas as pd\n",
    "import matplotlib.pyplot as plt\n",
    "%matplotlib inline\n",
    "\n",
    "plt.rcParams['figure.figsize'] = (10, 7)  # Setting default plot size\n",
    "\n",
    "lda = LDA(n_components=2) #2-dimensional LDA\n",
    "\n",
    "y = topic_cluster_classes\n",
    "\n",
    "lda_transformed = pd.DataFrame(lda.fit_transform(topic_features, y))\n",
    "\n",
    "lda_transformed['y'] = y\n",
    "\n",
    "plt.scatter(lda_transformed[lda_transformed['y']==0][0], lda_transformed[lda_transformed['y']==0][1], label='0', c='blue', alpha=0.4)\n",
    "plt.scatter(lda_transformed[lda_transformed['y']==1][0], lda_transformed[lda_transformed['y']==1][1], label='1', c='green', alpha=0.4)\n",
    "plt.scatter(lda_transformed[lda_transformed['y']==2][0], lda_transformed[lda_transformed['y']==2][1], label='2', c='red', alpha=0.4)\n",
    "plt.scatter(lda_transformed[lda_transformed['y']==3][0], lda_transformed[lda_transformed['y']==3][1], label='3', c='violet', alpha=0.4)\n",
    "plt.scatter(lda_transformed[lda_transformed['y']==4][0], lda_transformed[lda_transformed['y']==4][1], label='4', c='yellow', alpha=0.4)\n",
    "plt.scatter(lda_transformed[lda_transformed['y']==5][0], lda_transformed[lda_transformed['y']==5][1], label='5', c='magenta', alpha=0.4)\n",
    "plt.scatter(lda_transformed[lda_transformed['y']==6][0], lda_transformed[lda_transformed['y']==6][1], label='6', c='black', alpha=0.4)\n",
    "plt.scatter(lda_transformed[lda_transformed['y']==7][0], lda_transformed[lda_transformed['y']==7][1], label='7', c='orange', alpha=0.4)\n",
    "plt.scatter(lda_transformed[lda_transformed['y']==8][0], lda_transformed[lda_transformed['y']==8][1], label='8', c='indigo', alpha=0.4)\n",
    "plt.scatter(lda_transformed[lda_transformed['y']==9][0], lda_transformed[lda_transformed['y']==9][1], label='9', c='purple', alpha=0.4)\n",
    "\n",
    "plt.legend(loc=2)\n",
    "\n",
    "plt.show()"
   ]
  },
  {
   "cell_type": "code",
   "execution_count": 23,
   "metadata": {},
   "outputs": [
    {
     "name": "stdout",
     "output_type": "stream",
     "text": [
      "Topic cluster: 0\n",
      "[('said', 329),\n",
      " ('mr.', 296),\n",
      " ('new', 277),\n",
      " ('time', 245),\n",
      " ('ms.', 212),\n",
      " ('york', 198),\n",
      " ('like', 190),\n",
      " ('one', 184),\n",
      " ('stori', 134),\n",
      " ('imag', 124),\n",
      " ('year', 121),\n",
      " ('photo', 117),\n",
      " ('newslett', 117),\n",
      " ('work', 108),\n",
      " ('pleas', 106),\n",
      " ('read', 104),\n",
      " ('credit', 101),\n",
      " ('also', 101),\n",
      " ('first', 101),\n",
      " ('look', 95),\n",
      " ('continu', 95),\n",
      " ('show', 94),\n",
      " ('main', 89),\n",
      " ('say', 85),\n",
      " ('peopl', 83)]\n",
      "\n",
      "Topic cluster: 1\n",
      "[('mr.', 629),\n",
      " ('said', 424),\n",
      " ('trump', 297),\n",
      " ('new', 293),\n",
      " ('time', 265),\n",
      " ('democrat', 264),\n",
      " ('state', 260),\n",
      " ('main', 208),\n",
      " ('would', 207),\n",
      " ('republican', 203),\n",
      " ('continu', 202),\n",
      " ('newslett', 198),\n",
      " ('stori', 196),\n",
      " ('read', 190),\n",
      " ('pleas', 184),\n",
      " ('presid', 180),\n",
      " ('york', 179),\n",
      " ('year', 172),\n",
      " ('sign', 171),\n",
      " ('one', 156),\n",
      " ('elect', 155),\n",
      " ('like', 149),\n",
      " ('also', 137),\n",
      " ('peopl', 135),\n",
      " ('parti', 127)]\n",
      "\n",
      "Topic cluster: 2\n",
      "[('car', 382),\n",
      " ('compani', 236),\n",
      " ('said', 195),\n",
      " ('like', 187),\n",
      " ('new', 178),\n",
      " ('would', 149),\n",
      " ('one', 145),\n",
      " ('could', 143),\n",
      " ('time', 133),\n",
      " ('vehicl', 132),\n",
      " ('year', 128),\n",
      " ('tesla', 122),\n",
      " ('use', 114),\n",
      " ('make', 114),\n",
      " ('ad', 112),\n",
      " ('self-driv', 109),\n",
      " ('technolog', 108),\n",
      " ('facebook', 99),\n",
      " ('also', 96),\n",
      " ('peopl', 96),\n",
      " ('say', 88),\n",
      " ('get', 88),\n",
      " ('autonom', 87),\n",
      " ('driver', 81),\n",
      " ('go', 80)]\n",
      "\n",
      "Topic cluster: 3\n",
      "[('time', 205),\n",
      " ('new', 187),\n",
      " ('servic', 175),\n",
      " ('use', 167),\n",
      " ('said', 164),\n",
      " ('inform', 152),\n",
      " ('tax', 152),\n",
      " ('may', 138),\n",
      " ('york', 127),\n",
      " ('state', 108),\n",
      " ('pleas', 99),\n",
      " ('colleg', 97),\n",
      " ('would', 93),\n",
      " ('includ', 92),\n",
      " ('email', 84),\n",
      " ('year', 84),\n",
      " ('chang', 82),\n",
      " ('student', 81),\n",
      " ('percent', 76),\n",
      " ('continu', 75),\n",
      " ('newslett', 75),\n",
      " ('get', 74),\n",
      " ('product', 73),\n",
      " ('one', 68),\n",
      " ('read', 68)]\n",
      "\n",
      "Topic cluster: 4\n",
      "[('said', 258),\n",
      " ('like', 234),\n",
      " ('time', 226),\n",
      " ('one', 179),\n",
      " ('stori', 168),\n",
      " ('new', 163),\n",
      " ('continu', 154),\n",
      " ('read', 153),\n",
      " ('newslett', 142),\n",
      " ('main', 133),\n",
      " ('pleas', 131),\n",
      " ('would', 130),\n",
      " ('mr.', 124),\n",
      " ('get', 121),\n",
      " ('tri', 116),\n",
      " ('go', 111),\n",
      " ('say', 110),\n",
      " ('peopl', 110),\n",
      " ('york', 109),\n",
      " ('know', 106),\n",
      " ('year', 105),\n",
      " ('want', 105),\n",
      " ('sign', 101),\n",
      " ('work', 100),\n",
      " ('famili', 93)]\n",
      "\n",
      "Topic cluster: 5\n",
      "[('new', 231),\n",
      " ('time', 187),\n",
      " ('york', 177),\n",
      " ('newslett', 174),\n",
      " ('pleas', 153),\n",
      " ('said', 137),\n",
      " ('sign', 117),\n",
      " ('subscrib', 107),\n",
      " ('mr.', 106),\n",
      " ('read', 93),\n",
      " ('continu', 90),\n",
      " ('stori', 88),\n",
      " ('main', 82),\n",
      " ('email', 69),\n",
      " ('updat', 66),\n",
      " ('would', 64),\n",
      " ('like', 64),\n",
      " ('offer', 62),\n",
      " ('servic', 62),\n",
      " ('view', 61),\n",
      " ('tri', 60),\n",
      " ('later', 56),\n",
      " ('special', 56),\n",
      " ('must', 56),\n",
      " ('one', 55)]\n",
      "\n",
      "Topic cluster: 6\n",
      "[('said', 168),\n",
      " ('new', 152),\n",
      " ('time', 133),\n",
      " ('like', 116),\n",
      " ('one', 112),\n",
      " ('read', 107),\n",
      " ('continu', 105),\n",
      " ('stori', 104),\n",
      " ('main', 98),\n",
      " ('newslett', 96),\n",
      " ('pleas', 93),\n",
      " ('team', 82),\n",
      " ('york', 82),\n",
      " ('wine', 80),\n",
      " ('sign', 78),\n",
      " ('game', 78),\n",
      " ('year', 76),\n",
      " ('make', 75),\n",
      " ('tri', 75),\n",
      " ('also', 71),\n",
      " ('advertis', 71),\n",
      " ('player', 68),\n",
      " ('would', 66),\n",
      " ('food', 66),\n",
      " ('season', 61)]\n",
      "\n",
      "Topic cluster: 7\n",
      "[('said', 183),\n",
      " ('new', 149),\n",
      " ('park', 101),\n",
      " ('read', 91),\n",
      " ('main', 91),\n",
      " ('time', 91),\n",
      " ('one', 90),\n",
      " ('year', 86),\n",
      " ('newslett', 86),\n",
      " ('ms.', 82),\n",
      " ('york', 82),\n",
      " ('stori', 81),\n",
      " ('continu', 77),\n",
      " ('hous', 73),\n",
      " ('sign', 72),\n",
      " ('island', 70),\n",
      " ('street', 70),\n",
      " ('pleas', 70),\n",
      " ('mr.', 70),\n",
      " ('includ', 68),\n",
      " ('like', 67),\n",
      " ('home', 66),\n",
      " ('price', 66),\n",
      " ('photo', 65),\n",
      " ('percent', 63)]\n",
      "\n"
     ]
    }
   ],
   "source": [
    "## Viewing the most frequently used words in each topic cluster\n",
    "\n",
    "import collections\n",
    "from pprint import pprint\n",
    "\n",
    "\n",
    "for topic_cluster_id in range(8):\n",
    "    \n",
    "    print('Topic cluster: ' + str(topic_cluster_id))    \n",
    "    \n",
    "    words = []\n",
    "    \n",
    "    for i in range(len(documents_filtered)):\n",
    "        if topic_cluster_classes[i] == topic_cluster_id:\n",
    "            words += documents_filtered[i].split(' ')\n",
    "\n",
    "    counter = collections.Counter(words)\n",
    "    pprint(counter.most_common()[:25])\n",
    "    print()\n"
   ]
  },
  {
   "cell_type": "code",
   "execution_count": null,
   "metadata": {},
   "outputs": [],
   "source": []
  },
  {
   "cell_type": "code",
   "execution_count": null,
   "metadata": {},
   "outputs": [],
   "source": []
  }
 ],
 "metadata": {
  "kernelspec": {
   "display_name": "Python 3",
   "language": "python",
   "name": "python3"
  },
  "language_info": {
   "codemirror_mode": {
    "name": "ipython",
    "version": 3
   },
   "file_extension": ".py",
   "mimetype": "text/x-python",
   "name": "python",
   "nbconvert_exporter": "python",
   "pygments_lexer": "ipython3",
   "version": "3.5.2"
  }
 },
 "nbformat": 4,
 "nbformat_minor": 2
}

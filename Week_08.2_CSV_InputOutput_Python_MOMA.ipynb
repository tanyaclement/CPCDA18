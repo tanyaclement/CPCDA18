{
 "cells": [
  {
   "cell_type": "markdown",
   "metadata": {},
   "source": [
    "Sample datasets from The Museum of Modern Art (MoMA) [via GitHub](https://github.com/MuseumofModernArt/collection). \n",
    "\n",
    "The files on MOMA are updated all the time and are now HUGE so I have provided more workable versions on Canvas for you to download in the artists_artworks.zip file: \n",
    "https://utexas.instructure.com/courses/1216881/files/folder/Week_8\n",
    "\n",
    "Unzip and download these files to your /sharedfolder/ on your desktop.\n",
    "\n",
    "If you want to revisit this assignment with the actual MOMA files, you can get them here:  \n",
    "- [Artists.csv](https://media.githubusercontent.com/media/MuseumofModernArt/collection/master/Artists.csv)\n",
    "- [Artworks.csv](https://media.githubusercontent.com/media/MuseumofModernArt/collection/master/Artworks.csv)"
   ]
  },
  {
   "cell_type": "markdown",
   "metadata": {},
   "source": [
    "###  Artists Data"
   ]
  },
  {
   "cell_type": "code",
   "execution_count": null,
   "metadata": {},
   "outputs": [],
   "source": [
    "import csv\n",
    "\n",
    "artist_csv_path = \"/sharedfolder/Artists.csv\"\n",
    "artist_table = []\n",
    "\n",
    "with open(artist_csv_path) as fi:\n",
    "    csv_input = csv.reader(fi)\n",
    "    for row in csv_input:\n",
    "        artist_table.append(row)\n",
    "\n",
    "artist_header = artist_table[0]\n",
    "artist_table.remove(artist_table[0])\n",
    "\n",
    "artist_header"
   ]
  },
  {
   "cell_type": "markdown",
   "metadata": {},
   "source": [
    "Now, check the length of the table, then enter an index value in brackets to look at an entry."
   ]
  },
  {
   "cell_type": "code",
   "execution_count": null,
   "metadata": {},
   "outputs": [],
   "source": [
    "print(len(artist_table))\n",
    "\n",
    "artist_table[6310]"
   ]
  },
  {
   "cell_type": "markdown",
   "metadata": {},
   "source": [
    "We’ve just copied all the data from a CSV-formatted spreadsheet and turned it into a format Python can easily work with: a list of lists of strings. Let’s walk through the above a step at a time, this time loading MoMA’s artwork metadata.\n",
    "\n",
    "We began by importing the `csv` module, Python’s built-in CSV input/output tool. `import csv`"
   ]
  },
  {
   "cell_type": "markdown",
   "metadata": {},
   "source": [
    "### Artworks Data"
   ]
  },
  {
   "cell_type": "markdown",
   "metadata": {},
   "source": [
    "Next we assign our pathname to the `artwork_path` variable and initialize an empty list called `artwork_table`.\n",
    "\n",
    "This will become our *list of lists*, Python’s version of a table."
   ]
  },
  {
   "cell_type": "code",
   "execution_count": null,
   "metadata": {},
   "outputs": [],
   "source": [
    "artwork_csv_path = \"/sharedfolder/Artworks.csv\"\n",
    "artwork_table = []"
   ]
  },
  {
   "cell_type": "markdown",
   "metadata": {},
   "source": [
    "Then we create a file stream object `fi` that points to our spreadsheet, We pass our file object to `csv`’s constructor function and assign the new reader object to `csv_file`. Finally, using a for loop, we iterate through our csv object and add each row (represented by a list) to the master list `artwork_table`."
   ]
  },
  {
   "cell_type": "code",
   "execution_count": null,
   "metadata": {},
   "outputs": [],
   "source": [
    "with open(artwork_csv_path) as fi:\n",
    "    csv_file = csv.reader(fi)\n",
    "    for row in csv_file:\n",
    "        artwork_table.append(row)"
   ]
  },
  {
   "cell_type": "markdown",
   "metadata": {},
   "source": [
    "Because this table uses column labels in the first row, we’ll save those labels to the variable `header` and remove it from the table."
   ]
  },
  {
   "cell_type": "code",
   "execution_count": null,
   "metadata": {},
   "outputs": [],
   "source": [
    "artwork_header = artwork_table[0]\n",
    "artwork_table.remove(artwork_table[0])"
   ]
  },
  {
   "cell_type": "markdown",
   "metadata": {},
   "source": [
    "Finally, let’s look at our list of column titles …"
   ]
  },
  {
   "cell_type": "code",
   "execution_count": null,
   "metadata": {},
   "outputs": [],
   "source": [
    "artwork_header"
   ]
  },
  {
   "cell_type": "markdown",
   "metadata": {},
   "source": [
    "… as well as a row in our table."
   ]
  },
  {
   "cell_type": "code",
   "execution_count": null,
   "metadata": {},
   "outputs": [],
   "source": [
    "artwork_table[60946]"
   ]
  },
  {
   "cell_type": "markdown",
   "metadata": {},
   "source": [
    "#### Quick Assignment 1\n",
    "Write a piece of code that prints each column label in `artist_header` and `artwork_header` next to its index in the list, beginning from zero as usual. You may want to keep this reference handy for the next few exercises."
   ]
  },
  {
   "cell_type": "code",
   "execution_count": null,
   "metadata": {},
   "outputs": [],
   "source": []
  },
  {
   "cell_type": "code",
   "execution_count": null,
   "metadata": {},
   "outputs": [],
   "source": []
  },
  {
   "cell_type": "markdown",
   "metadata": {},
   "source": [
    "#### Quick Assignment 2\n",
    "Write a piece of code that creates a new table (i.e., list of lists) containing only artists born in the 1880s.\n"
   ]
  },
  {
   "cell_type": "code",
   "execution_count": null,
   "metadata": {},
   "outputs": [],
   "source": []
  },
  {
   "cell_type": "code",
   "execution_count": null,
   "metadata": {},
   "outputs": [],
   "source": []
  },
  {
   "cell_type": "markdown",
   "metadata": {},
   "source": [
    "#### Average Artist Age\n",
    "Now that we’ve defined a meaningful subset of our data, let’s see what we can do with it. For instance, what was the mean life span of artists born in the 1880s (who happen to be included in MoMA's collections)?"
   ]
  },
  {
   "cell_type": "code",
   "execution_count": null,
   "metadata": {},
   "outputs": [],
   "source": [
    "lifespans_1880s = []\n",
    "\n",
    "for row in born_1880s:\n",
    "    lifespans_1880s.append(int(row[6]) - int(row[5]))\n",
    "\n",
    "lifespans_1880s"
   ]
  },
  {
   "cell_type": "markdown",
   "metadata": {},
   "source": [
    "If you scroll through your list of lifespans, you’ll see occasional negative numbers (e.g., “-1887”). Since missing values are represented by “0,” if no death date is listed we’ll end up subtracting an artist’s birth year from zero. Let’s amend our code to leave out these rows.\n"
   ]
  },
  {
   "cell_type": "code",
   "execution_count": null,
   "metadata": {},
   "outputs": [],
   "source": [
    "lifespans_1880s = []\n",
    "\n",
    "for row in born_1880s:\n",
    "    age = int(row[6])-int(row[5])\n",
    "    if age > 0:\n",
    "        lifespans_1880s.append(age)\n",
    "\n",
    "lifespans_1880s"
   ]
  },
  {
   "cell_type": "markdown",
   "metadata": {},
   "source": [
    "Now that we have a list of valid integers, all we need to do is calculate the mean. Below we divide the sum of the list (which we cast as a float) by its length to get 72.65 years."
   ]
  },
  {
   "cell_type": "code",
   "execution_count": null,
   "metadata": {},
   "outputs": [],
   "source": [
    "float(sum(lifespans_1880s)) / len(lifespans_1880s)"
   ]
  },
  {
   "cell_type": "markdown",
   "metadata": {},
   "source": [
    "That format is a bit verbose for a simple task like this, so to make life easier we’ll use the Python package `NumPy`.\n"
   ]
  },
  {
   "cell_type": "code",
   "execution_count": null,
   "metadata": {},
   "outputs": [],
   "source": [
    "import numpy\n",
    "numpy.mean(lifespans_1880s)"
   ]
  },
  {
   "cell_type": "markdown",
   "metadata": {},
   "source": [
    "**Tip:** The code above imports the entire `numpy` package. Python also lets us import packages’ individual functions to the current environment, which can make code more compact."
   ]
  },
  {
   "cell_type": "code",
   "execution_count": null,
   "metadata": {},
   "outputs": [],
   "source": [
    "from numpy import mean\n",
    "mean(lifespans_1880s)"
   ]
  },
  {
   "cell_type": "markdown",
   "metadata": {},
   "source": [
    "A common convention is to rename `numpy` to `np` at the import step."
   ]
  },
  {
   "cell_type": "code",
   "execution_count": null,
   "metadata": {},
   "outputs": [],
   "source": [
    "import numpy as np\n",
    "np.mean(lifespans_1880s)"
   ]
  },
  {
   "cell_type": "markdown",
   "metadata": {},
   "source": [
    "This guide will use to `numpy.mean()` for the sake of clarity, but feel free to set up your environment however you like.\n"
   ]
  },
  {
   "cell_type": "markdown",
   "metadata": {},
   "source": [
    "#### Quick Assignment 3\n",
    "Write a piece of code that creates a new table containing all artworks that include the term “Fluxus” in any metadata field.\n"
   ]
  },
  {
   "cell_type": "code",
   "execution_count": null,
   "metadata": {},
   "outputs": [],
   "source": []
  },
  {
   "cell_type": "code",
   "execution_count": null,
   "metadata": {},
   "outputs": [],
   "source": []
  },
  {
   "cell_type": "markdown",
   "metadata": {},
   "source": [
    "#### Fluxus Metadata Continued\n",
    "Now let’s make a master list of entries under “medium” in our Fluxus metadata set."
   ]
  },
  {
   "cell_type": "code",
   "execution_count": null,
   "metadata": {},
   "outputs": [],
   "source": [
    "medium_list = []\n",
    "\n",
    "for row in fluxus_table:\n",
    "    medium_list.append(row[9])\n",
    "\n",
    "len(medium_list)"
   ]
  },
  {
   "cell_type": "markdown",
   "metadata": {},
   "source": [
    "Let’s look at 10 random samples from the collection, first importing the `random` package."
   ]
  },
  {
   "cell_type": "code",
   "execution_count": null,
   "metadata": {},
   "outputs": [],
   "source": [
    "import random\n",
    "\n",
    "random.sample(medium_list, 10)"
   ]
  },
  {
   "cell_type": "markdown",
   "metadata": {},
   "source": [
    "Let’s see what terms appear most frequently in our list of media."
   ]
  },
  {
   "cell_type": "code",
   "execution_count": null,
   "metadata": {},
   "outputs": [],
   "source": [
    "from collections import Counter\n",
    "\n",
    "c = Counter(medium_list)\n",
    "c.most_common(10)"
   ]
  },
  {
   "cell_type": "markdown",
   "metadata": {},
   "source": [
    "Note that 1151 artworks are missing an entry for “medium,” with the term “(CONFIRM)” appearing 190 times."
   ]
  },
  {
   "cell_type": "markdown",
   "metadata": {},
   "source": [
    "#### Not-so-Quick Assignment 4\n",
    "Returning to our original MoMA metadata table, write a piece of code that extracts only works created in the 1960s (or another decade of your choosing). Since the date field in MoMA’s metadata doesn’t follow a strictly defined numerical format, you’ll have to think about how to interpret values like “1963,” “1963-5“, “c. 1963,” “c. 1960s,” etc.\n",
    "\n",
    "*Note: Think of a solution that might not have great precision but has pretty good recall:*"
   ]
  },
  {
   "cell_type": "code",
   "execution_count": null,
   "metadata": {},
   "outputs": [],
   "source": []
  },
  {
   "cell_type": "code",
   "execution_count": null,
   "metadata": {},
   "outputs": [],
   "source": []
  },
  {
   "cell_type": "markdown",
   "metadata": {},
   "source": [
    "*A way-too-elaborate solution with better precision but imperfect recall:*"
   ]
  },
  {
   "cell_type": "code",
   "execution_count": null,
   "metadata": {},
   "outputs": [],
   "source": [
    "import string\n",
    "\n",
    "def date_span(date_string):\n",
    "         if len(date_string) == 0:return[-1,-1]\n",
    "         temp_string = date_string\n",
    "         if ', 1' in temp_string:\n",
    "             temp_string = date_string.split(',')[1]\n",
    "         elif ',' in temp_string:\n",
    "             temp_string = date_string.split(',')[0]\n",
    "         temp_string = temp_string.lower().replace('early ','').replace('late ','')\n",
    "         if (len(temp_string)0)&(temp_string[0] != ['(']):\n",
    "             temp_string = temp_string.split('(')[0]\n",
    "         temp_string = temp_string.translate(None,\"(){}<[]; \")\n",
    "         try:\n",
    "             if 'c.' in temp_string:\n",
    "                 temp_string = temp_string.replace('c.','').strip()\n",
    "             if temp_string.isdigit():\n",
    "                 return [int(temp_string),int(temp_string)]\n",
    "             if temp_string[-2:] == '0s':\n",
    "                 return [int(temp_string.strip('s')),int(temp_string.strip('s'))+9]\n",
    "             if '-' in temp_string:\n",
    "                 pair = temp_string.split('-')\n",
    "                 if len(pair[1].strip()) == 2:\n",
    "                     return [int(pair[0].strip()),int(pair[0][:2]+pair[1].strip())]\n",
    "                 elif len(pair[1]) == 4:\n",
    "                     return [int(pair[0].strip()),int(pair[1].strip())]\n",
    "\n",
    "                 else: print \"error1: \"+date_string + \"- \" + temp_string\n",
    "         except: print \"error2: \"+date_string + \" - \" + temp_string\n",
    "\n",
    "     art_temp = []\n",
    "     for row in artwork_table:\n",
    "         if '196' in row[8]:\n",
    "             art_temp.append(row)\n",
    "\n",
    "     art_1960s = []\n",
    "     for row in art_temp:\n",
    "         years = date_span(row[8])\n",
    "         art_1960s.append(row)\n",
    "\n",
    "\n",
    "    at_1960s[:15]"
   ]
  },
  {
   "cell_type": "markdown",
   "metadata": {},
   "source": [
    "#### Sorting a Table by Column\n",
    "\n",
    "We can sort a table based on the values in a given column with the `sorted` function and and the `itemgetter` tool, which we use to specify the column we’re sorting by. The following sorts the table `art_1960s` by artist name (i.e., index `1` in each row)."
   ]
  },
  {
   "cell_type": "code",
   "execution_count": null,
   "metadata": {},
   "outputs": [],
   "source": [
    "from operator import itemgetter\n",
    "art_1960s_sorted = sorted(art_1960s, key = itemgetter(1))"
   ]
  },
  {
   "cell_type": "markdown",
   "metadata": {},
   "source": [
    "Since each row is so long, let’s just look at our sorted set of authors. The following notation returns a list of  each row’s “Artist” cell, located at index `1`.\n"
   ]
  },
  {
   "cell_type": "code",
   "execution_count": null,
   "metadata": {},
   "outputs": [],
   "source": [
    "[row[1] for row in art_1960s_sorted]"
   ]
  },
  {
   "cell_type": "markdown",
   "metadata": {},
   "source": [
    "Let's look at the most common nationalities in our table of 1960s artworks. Here we’re once again using the `Counter` constructor from the `collections` package."
   ]
  },
  {
   "cell_type": "code",
   "execution_count": null,
   "metadata": {},
   "outputs": [],
   "source": [
    "c = Counter([row[4] for row in art_1960s_sorted])\n",
    "c.most_common(20)"
   ]
  },
  {
   "cell_type": "markdown",
   "metadata": {},
   "source": [
    "It’s impossible to memorize the details of every specialized tool available in Python, so you’ll probably end up repeatedly looking up processes like these.\n"
   ]
  },
  {
   "cell_type": "markdown",
   "metadata": {},
   "source": [
    "#### Writing CSVs\n",
    "Now that we’ve filtered and sorted our metadata, let’s export it to a new CSV file called `art_1960s.csv`."
   ]
  },
  {
   "cell_type": "code",
   "execution_count": null,
   "metadata": {},
   "outputs": [],
   "source": [
    "outpath = \"/sharedfolder/art_1960s.csv\"\n",
    "with open(outpath, 'w') as fo:\n",
    "    csv_writer = csv.writer(fo)\n",
    "    csv_writer.writerow(artwork_header)\n",
    "    csv_writer.writerows(art_1960s_sorted)"
   ]
  },
  {
   "cell_type": "markdown",
   "metadata": {},
   "source": [
    "Note that we call use `writerow` function first to write the header row, then `writerows` to write the actual data.\n"
   ]
  },
  {
   "cell_type": "markdown",
   "metadata": {},
   "source": [
    "Find the new file in `sharedfolder` and open it in Excel or LibreOffice. Take a few moments to explore the collection."
   ]
  },
  {
   "cell_type": "markdown",
   "metadata": {},
   "source": [
    "#### The Dictionary Data Type\n",
    "\n",
    "So far, when we want to access the “Artist” field in MoMA’s metadata, we’ve been referring to its position in a given row.\n"
   ]
  },
  {
   "cell_type": "code",
   "execution_count": null,
   "metadata": {},
   "outputs": [],
   "source": [
    "row = art_1960s_sorted[7700]\n",
    "row[1]"
   ]
  },
  {
   "cell_type": "markdown",
   "metadata": {},
   "source": [
    "This system is straightforward and well-suited for many jobs, but for large, complex projects it can be difficult to keep track of all those index numbers. Instead, we can use a dictionary to reference metadata fields by name rather than list index.\n",
    "\n",
    "Just like we can refer to a item in a list using brackets to enclose its position in the list, a dictionary, or dict, uses any chosen string or number to identify a value in a collection. This data structure is known as a key-value pair. Here’s the simplest way to create a new dictionary."
   ]
  },
  {
   "cell_type": "code",
   "execution_count": null,
   "metadata": {},
   "outputs": [],
   "source": [
    "artist_meta = {}\n",
    "artist_meta['ConstituentID'] = 248\n",
    "artist_meta['DisplayName'] = 'Richard Avedon'\n",
    "artist_meta['ArtistBio'] = 'American, 1923–2004'\n",
    "artist_meta['Nationality'] = 'American'\n",
    "artist_meta['Gender'] = 'Male'\n",
    "artist_meta['BeginDate'] = 1923\n",
    "artist_meta['EndDate'] = 2004\n",
    "artist_meta['Wiki QID'] = 'Q305497'\n",
    "artist_meta['ULAN'] = '500013773'"
   ]
  },
  {
   "cell_type": "markdown",
   "metadata": {},
   "source": [
    "The following is a more compact format for the same key-value assignment."
   ]
  },
  {
   "cell_type": "code",
   "execution_count": null,
   "metadata": {},
   "outputs": [],
   "source": [
    "artist_meta = {'ConstituentID': 248, 'DisplayName': 'Richard Avedon', 'Gender': 'Male', 'BeginDate': 1923, 'EndDate': 2004, 'ULAN': '500013773', 'Wiki QID': 'Q305497', 'ArtistBio': 'American, 1923–2004', 'Nationality': 'American'}"
   ]
  },
  {
   "cell_type": "markdown",
   "metadata": {},
   "source": [
    "To access a value, enter its key between brackets like so."
   ]
  },
  {
   "cell_type": "code",
   "execution_count": null,
   "metadata": {},
   "outputs": [],
   "source": [
    "artist_meta['DisplayName']"
   ]
  },
  {
   "cell_type": "markdown",
   "metadata": {},
   "source": [
    "And note that you can iterate over a dict to view and/or use its keys."
   ]
  },
  {
   "cell_type": "code",
   "execution_count": null,
   "metadata": {},
   "outputs": [],
   "source": [
    "for key in artist_meta:\n",
    "    print(key + \" - \" + str(artist_meta[key]))"
   ]
  },
  {
   "cell_type": "markdown",
   "metadata": {},
   "source": [
    "Next, let’s create a dict for each artist MoMA’s artist metadata. Here’s a snippet (repeated from above) that loads `Artists.csv` as a list of lists called `artist_table`."
   ]
  },
  {
   "cell_type": "code",
   "execution_count": null,
   "metadata": {},
   "outputs": [],
   "source": [
    "import csv\n",
    "\n",
    "artist_csv_path = \"/sharedfolder/Artists.csv\"\n",
    "artist_table = []\n",
    "\n",
    "with open(artist_csv_path) as fi:\n",
    "    csv_input = csv.reader(fi)\n",
    "    for row in csv_input:\n",
    "        artist_table.append(row)\n",
    "\n",
    "artist_header = artist_table[0]\n",
    "artist_table.remove(artist_table[0])\n",
    "\n",
    "artist_header"
   ]
  },
  {
   "cell_type": "markdown",
   "metadata": {},
   "source": [
    "Now we’ll use a for loop to iterate through `artist_table`, converting each list of cells to key-value format."
   ]
  },
  {
   "cell_type": "code",
   "execution_count": null,
   "metadata": {},
   "outputs": [],
   "source": [
    "artist_dicts = []\n",
    "\n",
    "for row in artist_table:\n",
    "    artist_meta = {}\n",
    "    artist_meta['ConstituentID'] = row[0]\n",
    "    artist_meta['DisplayName'] = row[1]\n",
    "    artist_meta['ArtistBio'] = row[2]\n",
    "    artist_meta['Nationality'] = row[3]\n",
    "    artist_meta['Gender'] = row[4]\n",
    "    artist_meta['BeginDate'] = int(row[5])\n",
    "    artist_meta['EndDate'] = int(row[6])\n",
    "    artist_meta['Wiki QID'] = row[7]\n",
    "    artist_meta['ULAN'] = row[8]\n",
    "    artist_dicts.append(artist_meta)"
   ]
  },
  {
   "cell_type": "markdown",
   "metadata": {},
   "source": [
    "The list `artist_dicts` should now contain records for about 15,000 artists."
   ]
  },
  {
   "cell_type": "code",
   "execution_count": null,
   "metadata": {},
   "outputs": [],
   "source": [
    "len(artist_dicts)"
   ]
  },
  {
   "cell_type": "markdown",
   "metadata": {},
   "source": [
    "Specifying an index in brackets will return a dict object."
   ]
  },
  {
   "cell_type": "code",
   "execution_count": null,
   "metadata": {},
   "outputs": [],
   "source": [
    "artist_dicts[12007]"
   ]
  },
  {
   "cell_type": "markdown",
   "metadata": {},
   "source": [
    "And we can use one of our standard key names to get a particular value."
   ]
  },
  {
   "cell_type": "code",
   "execution_count": null,
   "metadata": {},
   "outputs": [],
   "source": [
    "artist_dicts[12007]['DisplayName']"
   ]
  },
  {
   "cell_type": "markdown",
   "metadata": {},
   "source": [
    "If we want to create a list of artist names, birth years, etc., we can thus iterate through the `artists_dicts` list and specify the field we want by name.\n"
   ]
  },
  {
   "cell_type": "markdown",
   "metadata": {},
   "source": [
    "#### Working with JSON\n",
    "JSON data is a representation of key-value pairs, very much like a dictionary in Python. For the following example we’ll download a JSON version of the artwork metadata we’ve been working with."
   ]
  },
  {
   "cell_type": "code",
   "execution_count": null,
   "metadata": {},
   "outputs": [],
   "source": [
    "import json\n",
    "from urllib.request import urlopen\n",
    "\n",
    "url = \"https://media.githubusercontent.com/media/MuseumofModernArt/collection/master/Artworks.json?raw=true\"\n",
    "json_string = urlopen(url).read().decode('utf8')\n",
    "json_data = json.loads(json_string)"
   ]
  },
  {
   "cell_type": "markdown",
   "metadata": {},
   "source": [
    "To view JSON data (as well as dictionaries and just about any other data format), Python offers a “pretty printer” module. Here we are viewing the first 200 artworks in the metadata set.\n",
    "\n",
    "There are also numerous online tools for prettifying JSON data, such as [these](http://jsonviewer.stack.hu/) [two](http://json.parser.online.fr/beta/).\n"
   ]
  },
  {
   "cell_type": "code",
   "execution_count": null,
   "metadata": {},
   "outputs": [],
   "source": [
    "from pprint import pprint\n",
    "\n",
    "pprint(json_data[:200])"
   ]
  },
  {
   "cell_type": "markdown",
   "metadata": {},
   "source": [
    "Much like a dictionary object in Python, a JSON object is made up of key-value pairs that can contain (and be contained in) lists. In this case, MoMA has presented metadata for its artworks as a list of key-value pairs.\n",
    "\n",
    "To see the number of artworks included in the JSON object, use the `len()` function."
   ]
  },
  {
   "cell_type": "code",
   "execution_count": null,
   "metadata": {},
   "outputs": [],
   "source": [
    "len(json_data)"
   ]
  },
  {
   "cell_type": "markdown",
   "metadata": {},
   "source": [
    "To view the key-value metadata for a random artwork, use `random.choice()`.\n"
   ]
  },
  {
   "cell_type": "code",
   "execution_count": null,
   "metadata": {},
   "outputs": [],
   "source": [
    "import random\n",
    "\n",
    "random.choice(json_data)"
   ]
  },
  {
   "cell_type": "markdown",
   "metadata": {},
   "source": [
    "Using bracket notation, we can access individual metadata fields by their keys. Here we display several metadata fields for a randomly chosen artwork."
   ]
  },
  {
   "cell_type": "code",
   "execution_count": null,
   "metadata": {},
   "outputs": [],
   "source": [
    "artwork = random.choice(json_data)\n",
    "\n",
    "print(artwork['Artist'])\n",
    "print(artwork['Title'])\n",
    "print(artwork['Date'])\n",
    "print(artwork['ObjectID'])\n",
    "print(artwork['URL'])"
   ]
  },
  {
   "cell_type": "markdown",
   "metadata": {},
   "source": [
    "The following loop will print the `Artist` field for the first 100 artworks in the list."
   ]
  },
  {
   "cell_type": "code",
   "execution_count": null,
   "metadata": {},
   "outputs": [],
   "source": [
    "for item in json_data[:100]:\n",
    "    pprint(item['Artist'])"
   ]
  },
  {
   "cell_type": "markdown",
   "metadata": {},
   "source": [
    "You can also use `random.sample()` to view artist names for 100 artworks chosen at random."
   ]
  },
  {
   "cell_type": "code",
   "execution_count": null,
   "metadata": {},
   "outputs": [],
   "source": [
    "for item in random.sample(json_data, 100):\n",
    "    pprint(item['Artist'])"
   ]
  },
  {
   "cell_type": "markdown",
   "metadata": {},
   "source": [
    "#### JSON Data to CSV\n",
    "Next we’ll transfer these metadata fields to CSV format. First, let’s print a list of metadata fields for reference:"
   ]
  },
  {
   "cell_type": "code",
   "execution_count": null,
   "metadata": {},
   "outputs": [],
   "source": [
    "header = []\n",
    "\n",
    "for key in json_data[0]:\n",
    "    header.append(key)"
   ]
  },
  {
   "cell_type": "markdown",
   "metadata": {},
   "source": [
    "Next we'll create a list of metadata fields to include in our CSV. These keys will appear at the top of the file as column headers.\n"
   ]
  },
  {
   "cell_type": "code",
   "execution_count": null,
   "metadata": {},
   "outputs": [],
   "source": [
    "column_headers = ['Date', 'Artist', 'Title', 'Medium', 'Nationality', 'ObjectID', 'URL', 'Department']\n",
    "\n",
    "pprint(column_headers)"
   ]
  },
  {
   "cell_type": "markdown",
   "metadata": {},
   "source": [
    "Then we’ll use these keys to create a list of rows for our CSV. Since some metadata entries in the JSON object appear as lists rather than strings, we’ll use the `str()` function to reformat each metadata item as we add it to the table.\n",
    "\n",
    "To avoid slowing things down, we will work with metadata for 20,000 randomly chosen artworks."
   ]
  },
  {
   "cell_type": "code",
   "execution_count": null,
   "metadata": {},
   "outputs": [],
   "source": [
    "meta_table = []\n",
    "\n",
    "for record in random.sample(json_data, 20000):\n",
    "    row = []\n",
    "    for key in column_headers:\n",
    "        row.append(str(record[key]))\n",
    "    meta_table.append(row)\n",
    "\n",
    "pprint(meta_table[0])"
   ]
  },
  {
   "cell_type": "markdown",
   "metadata": {},
   "source": [
    "Finally, we will write our metadata list of lists as a CSV.\n"
   ]
  },
  {
   "cell_type": "code",
   "execution_count": null,
   "metadata": {},
   "outputs": [],
   "source": [
    "import csv\n",
    "\n",
    "out_path = \"/sharedfolder/MoMA_20K.csv\"\n",
    "\n",
    "with open(out_path, 'w') as fo:\n",
    "    csv_out = csv.writer(fo)\n",
    "    csv_out.writerow(column_headers)\n",
    "    csv_out.writerows(meta_table)"
   ]
  },
  {
   "cell_type": "markdown",
   "metadata": {},
   "source": [
    "Open your CSV in LibreOffice or Excel."
   ]
  },
  {
   "cell_type": "code",
   "execution_count": null,
   "metadata": {},
   "outputs": [],
   "source": []
  }
 ],
 "metadata": {
  "kernelspec": {
   "display_name": "Python 3",
   "language": "python",
   "name": "python3"
  },
  "language_info": {
   "codemirror_mode": {
    "name": "ipython",
    "version": 3
   },
   "file_extension": ".py",
   "mimetype": "text/x-python",
   "name": "python",
   "nbconvert_exporter": "python",
   "pygments_lexer": "ipython3",
   "version": "3.5.2"
  }
 },
 "nbformat": 4,
 "nbformat_minor": 2
}

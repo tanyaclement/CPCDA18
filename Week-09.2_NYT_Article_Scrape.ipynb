{
 "cells": [
  {
   "cell_type": "code",
   "execution_count": null,
   "metadata": {},
   "outputs": [],
   "source": [
    "!apt-get -y install libxml2-dev libxslt-dev \n",
    "!pip3 install newspaper3k"
   ]
  },
  {
   "cell_type": "code",
   "execution_count": null,
   "metadata": {},
   "outputs": [],
   "source": [
    "!mkdir /sharedfolder/nyt_articles_11-19-2017/\n",
    "\n",
    "import os\n",
    "\n",
    "os.chdir('/sharedfolder/nyt_articles_11-19-2017/')"
   ]
  },
  {
   "cell_type": "code",
   "execution_count": null,
   "metadata": {},
   "outputs": [],
   "source": [
    "import os\n",
    "import time\n",
    "from urllib.request import urlopen\n",
    "from newspaper import Article\n",
    "from bs4 import BeautifulSoup\n",
    "\n",
    "def url_to_article_text(url):\n",
    "    article = Article(url)\n",
    "    article.download()\n",
    "    article.parse()\n",
    "    article_text = article.text.replace('\\n', ' ')\n",
    "    return article_text"
   ]
  },
  {
   "cell_type": "code",
   "execution_count": null,
   "metadata": {},
   "outputs": [],
   "source": [
    "section_urls = [ \\\n",
    "'https://www.nytimes.com/section/health', \\\n",
    "'https://www.nytimes.com/section/arts', \\\n",
    "'https://www.nytimes.com/section/fashion', \\\n",
    "'https://www.nytimes.com/section/world', \\\n",
    "'https://www.nytimes.com/section/us', \\\n",
    "'https://www.nytimes.com/section/politics', \\\n",
    "'https://www.nytimes.com/section/nyregion', \\\n",
    "'https://www.nytimes.com/section/business', \\\n",
    "'https://www.nytimes.com/section/opinion', \\\n",
    "'https://www.nytimes.com/section/technology', \\\n",
    "'https://www.nytimes.com/section/science', \\\n",
    "'https://www.nytimes.com/section/health', \\\n",
    "'https://www.nytimes.com/section/sports', \\\n",
    "'https://www.nytimes.com/section/food', \\\n",
    "'https://www.nytimes.com/section/travel', \\\n",
    "'https://www.nytimes.com/section/t-magazine', \\\n",
    "'https://www.nytimes.com/section/magazine', \\\n",
    "'https://www.nytimes.com/section/realestate']"
   ]
  },
  {
   "cell_type": "code",
   "execution_count": null,
   "metadata": {},
   "outputs": [],
   "source": [
    "import random\n",
    "\n",
    "random.shuffle(section_urls)"
   ]
  },
  {
   "cell_type": "code",
   "execution_count": null,
   "metadata": {},
   "outputs": [],
   "source": [
    "for section_url in section_urls:\n",
    "    print(section_url)\n",
    "    \n",
    "    section_name = section_url.split('/')[-1]\n",
    "    \n",
    "    try: os.mkdir('/sharedfolder/nyt_articles_11-19-2017/' + section_name)\n",
    "    except: pass\n",
    "    \n",
    "    os.chdir('/sharedfolder/nyt_articles_11-19-2017/' + section_name)\n",
    "    \n",
    "    html_text = urlopen(section_url)\n",
    "    soup = BeautifulSoup()\n",
    "    soup = BeautifulSoup(html_text, 'lxml')\n",
    "    \n",
    "    urls = [item['href'] for item in soup.find_all('a') if '.html' in item['href']]\n",
    "\n",
    "    for url in urls:\n",
    "        try:\n",
    "            article_text = url_to_article_text(url)\n",
    "            filename = url.split('/')[-1].split('.html')[0]+'.txt'\n",
    "            if filename not in os.listdir('./'):\n",
    "                with open(filename, 'w') as fo:\n",
    "                    fo.write(article_text)\n",
    "            time.sleep(1 + random.random())\n",
    "        except Exception as e:\n",
    "            print('----')\n",
    "            print(url)\n",
    "            print(e)\n",
    "    \n",
    "    time.sleep(10 + random.random())"
   ]
  },
  {
   "cell_type": "code",
   "execution_count": null,
   "metadata": {},
   "outputs": [],
   "source": [
    "os.chdir('/sharedfolder/')"
   ]
  },
  {
   "cell_type": "code",
   "execution_count": null,
   "metadata": {},
   "outputs": [],
   "source": [
    "!rm nyt_articles_11-9-2017/.DS_Store\n",
    "!zip -r nyt_articles_11-9-2017.zip nyt_articles_11-9-2017/"
   ]
  }
 ],
 "metadata": {
  "kernelspec": {
   "display_name": "Python 3",
   "language": "python",
   "name": "python3"
  },
  "language_info": {
   "codemirror_mode": {
    "name": "ipython",
    "version": 3
   },
   "file_extension": ".py",
   "mimetype": "text/x-python",
   "name": "python",
   "nbconvert_exporter": "python",
   "pygments_lexer": "ipython3",
   "version": "3.5.2"
  }
 },
 "nbformat": 4,
 "nbformat_minor": 2
}
